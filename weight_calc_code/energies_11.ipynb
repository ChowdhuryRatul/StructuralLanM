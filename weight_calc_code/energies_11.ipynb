{
 "cells": [
  {
   "cell_type": "code",
   "execution_count": 1,
   "metadata": {},
   "outputs": [],
   "source": [
    "import pandas as pd \n",
    "import numpy as np\n",
    "\n",
    "data = pd.read_csv('./data.csv',  index_col=None)\n",
    "\n",
    "def indexify(x):\n",
    "\n",
    "    seq = sorted(x, reverse = True)\n",
    "    index = [seq.index(v)+1 for v in x]\n",
    "    return index\n"
   ]
  },
  {
   "cell_type": "code",
   "execution_count": 2,
   "metadata": {},
   "outputs": [
    {
     "data": {
      "text/html": [
       "<div>\n",
       "<style scoped>\n",
       "    .dataframe tbody tr th:only-of-type {\n",
       "        vertical-align: middle;\n",
       "    }\n",
       "\n",
       "    .dataframe tbody tr th {\n",
       "        vertical-align: top;\n",
       "    }\n",
       "\n",
       "    .dataframe thead th {\n",
       "        text-align: right;\n",
       "    }\n",
       "</style>\n",
       "<table border=\"1\" class=\"dataframe\">\n",
       "  <thead>\n",
       "    <tr style=\"text-align: right;\">\n",
       "      <th></th>\n",
       "      <th>Unnamed: 0</th>\n",
       "      <th>Elec-SR</th>\n",
       "      <th>VdW-SR</th>\n",
       "      <th>Elec-LR</th>\n",
       "      <th>VdW-LR</th>\n",
       "      <th>sum_E</th>\n",
       "      <th>Expt_Kd</th>\n",
       "    </tr>\n",
       "  </thead>\n",
       "  <tbody>\n",
       "    <tr>\n",
       "      <th>0</th>\n",
       "      <td>wild-Nd/Ang</td>\n",
       "      <td>-8783.4075</td>\n",
       "      <td>113.85120</td>\n",
       "      <td>815.6950</td>\n",
       "      <td>40.4315</td>\n",
       "      <td>-7813.42980</td>\n",
       "      <td>4070.0</td>\n",
       "    </tr>\n",
       "    <tr>\n",
       "      <th>1</th>\n",
       "      <td>wild-Nd/Li</td>\n",
       "      <td>-10190.4975</td>\n",
       "      <td>211.07550</td>\n",
       "      <td>797.1550</td>\n",
       "      <td>40.8267</td>\n",
       "      <td>-9141.44030</td>\n",
       "      <td>4070.0</td>\n",
       "    </tr>\n",
       "    <tr>\n",
       "      <th>2</th>\n",
       "      <td>D9H-Nd/Ang</td>\n",
       "      <td>-8555.1525</td>\n",
       "      <td>103.51035</td>\n",
       "      <td>831.6200</td>\n",
       "      <td>36.9790</td>\n",
       "      <td>-7583.04315</td>\n",
       "      <td>2150.0</td>\n",
       "    </tr>\n",
       "    <tr>\n",
       "      <th>3</th>\n",
       "      <td>D9H-Nd/Li</td>\n",
       "      <td>-9955.3475</td>\n",
       "      <td>178.12800</td>\n",
       "      <td>843.9525</td>\n",
       "      <td>36.8072</td>\n",
       "      <td>-8896.45980</td>\n",
       "      <td>2150.0</td>\n",
       "    </tr>\n",
       "    <tr>\n",
       "      <th>4</th>\n",
       "      <td>D9M-Nd/Ang</td>\n",
       "      <td>-8370.8500</td>\n",
       "      <td>113.48700</td>\n",
       "      <td>800.3425</td>\n",
       "      <td>39.2800</td>\n",
       "      <td>-7417.74050</td>\n",
       "      <td>1460.0</td>\n",
       "    </tr>\n",
       "    <tr>\n",
       "      <th>5</th>\n",
       "      <td>D9M-Nd/Li</td>\n",
       "      <td>-9660.9450</td>\n",
       "      <td>157.55010</td>\n",
       "      <td>798.4400</td>\n",
       "      <td>39.4845</td>\n",
       "      <td>-8665.47040</td>\n",
       "      <td>1460.0</td>\n",
       "    </tr>\n",
       "    <tr>\n",
       "      <th>6</th>\n",
       "      <td>D9A-Nd/Li</td>\n",
       "      <td>-10006.6200</td>\n",
       "      <td>221.09000</td>\n",
       "      <td>799.1525</td>\n",
       "      <td>37.6500</td>\n",
       "      <td>-8948.72750</td>\n",
       "      <td>397.0</td>\n",
       "    </tr>\n",
       "    <tr>\n",
       "      <th>7</th>\n",
       "      <td>D9A-Nd/Ang</td>\n",
       "      <td>-8364.8200</td>\n",
       "      <td>121.33250</td>\n",
       "      <td>808.6175</td>\n",
       "      <td>39.6900</td>\n",
       "      <td>-7395.18000</td>\n",
       "      <td>397.0</td>\n",
       "    </tr>\n",
       "    <tr>\n",
       "      <th>8</th>\n",
       "      <td>D9N-Nd/Ang</td>\n",
       "      <td>-8475.0350</td>\n",
       "      <td>115.78800</td>\n",
       "      <td>725.9150</td>\n",
       "      <td>40.3900</td>\n",
       "      <td>-7592.94200</td>\n",
       "      <td>53.1</td>\n",
       "    </tr>\n",
       "    <tr>\n",
       "      <th>9</th>\n",
       "      <td>D9N-Nd/LI</td>\n",
       "      <td>-9809.4650</td>\n",
       "      <td>164.27420</td>\n",
       "      <td>732.1500</td>\n",
       "      <td>40.4640</td>\n",
       "      <td>-8872.57680</td>\n",
       "      <td>53.1</td>\n",
       "    </tr>\n",
       "    <tr>\n",
       "      <th>10</th>\n",
       "      <td>wild-Ca</td>\n",
       "      <td>-6427.9075</td>\n",
       "      <td>-82.88120</td>\n",
       "      <td>801.5275</td>\n",
       "      <td>42.1087</td>\n",
       "      <td>-5667.15250</td>\n",
       "      <td>7.1</td>\n",
       "    </tr>\n",
       "  </tbody>\n",
       "</table>\n",
       "</div>"
      ],
      "text/plain": [
       "     Unnamed: 0     Elec-SR     VdW-SR   Elec-LR   VdW-LR       sum_E  Expt_Kd\n",
       "0   wild-Nd/Ang  -8783.4075  113.85120  815.6950  40.4315 -7813.42980   4070.0\n",
       "1    wild-Nd/Li -10190.4975  211.07550  797.1550  40.8267 -9141.44030   4070.0\n",
       "2    D9H-Nd/Ang  -8555.1525  103.51035  831.6200  36.9790 -7583.04315   2150.0\n",
       "3     D9H-Nd/Li  -9955.3475  178.12800  843.9525  36.8072 -8896.45980   2150.0\n",
       "4    D9M-Nd/Ang  -8370.8500  113.48700  800.3425  39.2800 -7417.74050   1460.0\n",
       "5     D9M-Nd/Li  -9660.9450  157.55010  798.4400  39.4845 -8665.47040   1460.0\n",
       "6     D9A-Nd/Li -10006.6200  221.09000  799.1525  37.6500 -8948.72750    397.0\n",
       "7    D9A-Nd/Ang  -8364.8200  121.33250  808.6175  39.6900 -7395.18000    397.0\n",
       "8    D9N-Nd/Ang  -8475.0350  115.78800  725.9150  40.3900 -7592.94200     53.1\n",
       "9     D9N-Nd/LI  -9809.4650  164.27420  732.1500  40.4640 -8872.57680     53.1\n",
       "10      wild-Ca  -6427.9075  -82.88120  801.5275  42.1087 -5667.15250      7.1"
      ]
     },
     "execution_count": 2,
     "metadata": {},
     "output_type": "execute_result"
    }
   ],
   "source": [
    "data"
   ]
  },
  {
   "cell_type": "code",
   "execution_count": 3,
   "metadata": {},
   "outputs": [
    {
     "data": {
      "text/plain": [
       "[<matplotlib.lines.Line2D at 0x1f4f21b16d0>]"
      ]
     },
     "execution_count": 3,
     "metadata": {},
     "output_type": "execute_result"
    },
    {
     "data": {
      "image/png": "[encoded data removed]",
      "text/plain": [
       "<Figure size 432x288 with 1 Axes>"
      ]
     },
     "metadata": {
      "needs_background": "light"
     },
     "output_type": "display_data"
    }
   ],
   "source": [
    "import matplotlib.pyplot as plt \n",
    "\n",
    "y1 = indexify(data['Expt_Kd'])\n",
    "y2 = indexify(data['sum_E'])\n",
    "\n",
    "x = np.arange(len(y1))\n",
    "\n",
    "\n",
    "plt.plot(x,y1)\n",
    "plt.plot(x,y2)"
   ]
  },
  {
   "cell_type": "code",
   "execution_count": 4,
   "metadata": {},
   "outputs": [
    {
     "name": "stdout",
     "output_type": "stream",
     "text": [
      "[1, 1, 3, 3, 5, 5, 7, 7, 9, 9, 11]\n"
     ]
    }
   ],
   "source": [
    "kd_rank = indexify(list(data['Expt_Kd']))\n",
    "print(kd_rank)"
   ]
  },
  {
   "cell_type": "code",
   "execution_count": 5,
   "metadata": {},
   "outputs": [
    {
     "data": {
      "text/plain": [
       "array([[ -8783.4075 ,    113.8512 ,    815.695  ,     40.4315 ],\n",
       "       [-10190.4975 ,    211.0755 ,    797.155  ,     40.8267 ],\n",
       "       [ -8555.1525 ,    103.51035,    831.62   ,     36.979  ],\n",
       "       [ -9955.3475 ,    178.128  ,    843.9525 ,     36.8072 ],\n",
       "       [ -8370.85   ,    113.487  ,    800.3425 ,     39.28   ],\n",
       "       [ -9660.945  ,    157.5501 ,    798.44   ,     39.4845 ],\n",
       "       [-10006.62   ,    221.09   ,    799.1525 ,     37.65   ],\n",
       "       [ -8364.82   ,    121.3325 ,    808.6175 ,     39.69   ],\n",
       "       [ -8475.035  ,    115.788  ,    725.915  ,     40.39   ],\n",
       "       [ -9809.465  ,    164.2742 ,    732.15   ,     40.464  ],\n",
       "       [ -6427.9075 ,    -82.8812 ,    801.5275 ,     42.1087 ]])"
      ]
     },
     "execution_count": 5,
     "metadata": {},
     "output_type": "execute_result"
    }
   ],
   "source": [
    "weights = np.array([1,1,1,1])\n",
    "data_4 = np.array(data[[\"Elec-SR\",\"VdW-SR\",\"Elec-LR\",\"VdW-LR\"]])\n",
    "data_4"
   ]
  },
  {
   "cell_type": "code",
   "execution_count": 6,
   "metadata": {},
   "outputs": [
    {
     "name": "stdout",
     "output_type": "stream",
     "text": [
      "[6, 11, 4, 9, 3, 7, 10, 2, 5, 8, 1]\n"
     ]
    }
   ],
   "source": [
    "list_ = indexify(data['sum_E'])\n",
    "\n",
    "print(list_)"
   ]
  },
  {
   "cell_type": "code",
   "execution_count": 7,
   "metadata": {},
   "outputs": [],
   "source": [
    "def sum_calc_easy(weights, kd_rank, data_4):\n",
    "    list_ = []\n",
    "    for i in range(data_4.shape[0]):\n",
    "        list_.append(np.sum(data_4[i]*weights))\n",
    "\n",
    "    list_ = indexify(np.array(list_))\n",
    "\n",
    "\n",
    "\n",
    "    return np.corrcoef(np.array(list_),np.array(kd_rank))[1][0]"
   ]
  },
  {
   "cell_type": "code",
   "execution_count": 8,
   "metadata": {},
   "outputs": [
    {
     "data": {
      "text/plain": [
       "array([1.00000000e-03, 5.35789474e-02, 1.06157895e-01, 1.58736842e-01,\n",
       "       2.11315789e-01, 2.63894737e-01, 3.16473684e-01, 3.69052632e-01,\n",
       "       4.21631579e-01, 4.74210526e-01, 5.26789474e-01, 5.79368421e-01,\n",
       "       6.31947368e-01, 6.84526316e-01, 7.37105263e-01, 7.89684211e-01,\n",
       "       8.42263158e-01, 8.94842105e-01, 9.47421053e-01, 1.00000000e+00,\n",
       "       2.00000000e+00, 1.24210526e+01, 2.28421053e+01, 3.32631579e+01,\n",
       "       4.36842105e+01, 5.41052632e+01, 6.45263158e+01, 7.49473684e+01,\n",
       "       8.53684211e+01, 9.57894737e+01, 1.06210526e+02, 1.16631579e+02,\n",
       "       1.27052632e+02, 1.37473684e+02, 1.47894737e+02, 1.58315789e+02,\n",
       "       1.68736842e+02, 1.79157895e+02, 1.89578947e+02, 2.00000000e+02])"
      ]
     },
     "execution_count": 8,
     "metadata": {},
     "output_type": "execute_result"
    }
   ],
   "source": [
    "frac = np.linspace(.001,1,20)\n",
    "mult = np.linspace(2,200,20)\n",
    "frac_mult = np.concatenate((frac,mult), axis = 0)\n",
    "frac_mult"
   ]
  },
  {
   "cell_type": "code",
   "execution_count": 9,
   "metadata": {},
   "outputs": [],
   "source": [
    "dict_ = {}\n",
    "counter = 0\n",
    "for i in frac_mult:\n",
    "    for j in frac_mult:\n",
    "        for k in frac_mult:\n",
    "            for l in frac_mult:\n",
    "                inside_dict = {}\n",
    "                inside_dict['w1'] = i\n",
    "                inside_dict['w2'] = j\n",
    "                inside_dict['w3'] = k\n",
    "                inside_dict['w4'] = l \n",
    "                \n",
    "                sum_ = sum_calc_easy(np.array([i,j,k,l]), kd_rank, data_4)\n",
    "                inside_dict['sum'] = sum_\n",
    "                dict_[counter] = inside_dict\n",
    "                counter+=1"
   ]
  },
  {
   "cell_type": "code",
   "execution_count": null,
   "metadata": {},
   "outputs": [],
   "source": [
    "# import pickle\n",
    "\n",
    "# with open('weights_n_pearson.pkl', 'wb') as fp:\n",
    "#     pickle.dump(dict_, fp)\n",
    "#     print('dictionary saved successfully to file')"
   ]
  },
  {
   "cell_type": "code",
   "execution_count": 10,
   "metadata": {},
   "outputs": [
    {
     "data": {
      "text/html": [
       "<div>\n",
       "<style scoped>\n",
       "    .dataframe tbody tr th:only-of-type {\n",
       "        vertical-align: middle;\n",
       "    }\n",
       "\n",
       "    .dataframe tbody tr th {\n",
       "        vertical-align: top;\n",
       "    }\n",
       "\n",
       "    .dataframe thead th {\n",
       "        text-align: right;\n",
       "    }\n",
       "</style>\n",
       "<table border=\"1\" class=\"dataframe\">\n",
       "  <thead>\n",
       "    <tr style=\"text-align: right;\">\n",
       "      <th></th>\n",
       "      <th>w1</th>\n",
       "      <th>w2</th>\n",
       "      <th>w3</th>\n",
       "      <th>w4</th>\n",
       "      <th>sum</th>\n",
       "    </tr>\n",
       "  </thead>\n",
       "  <tbody>\n",
       "    <tr>\n",
       "      <th>588836</th>\n",
       "      <td>0.474211</td>\n",
       "      <td>0.421632</td>\n",
       "      <td>0.001000</td>\n",
       "      <td>168.736842</td>\n",
       "      <td>-0.574737</td>\n",
       "    </tr>\n",
       "    <tr>\n",
       "      <th>460872</th>\n",
       "      <td>0.369053</td>\n",
       "      <td>0.421632</td>\n",
       "      <td>0.053579</td>\n",
       "      <td>127.052632</td>\n",
       "      <td>-0.574737</td>\n",
       "    </tr>\n",
       "    <tr>\n",
       "      <th>720039</th>\n",
       "      <td>0.579368</td>\n",
       "      <td>0.526789</td>\n",
       "      <td>0.001000</td>\n",
       "      <td>200.000000</td>\n",
       "      <td>-0.574737</td>\n",
       "    </tr>\n",
       "    <tr>\n",
       "      <th>659237</th>\n",
       "      <td>0.526789</td>\n",
       "      <td>0.631947</td>\n",
       "      <td>0.001000</td>\n",
       "      <td>179.157895</td>\n",
       "      <td>-0.574737</td>\n",
       "    </tr>\n",
       "    <tr>\n",
       "      <th>587276</th>\n",
       "      <td>0.474211</td>\n",
       "      <td>0.369053</td>\n",
       "      <td>0.053579</td>\n",
       "      <td>168.736842</td>\n",
       "      <td>-0.574737</td>\n",
       "    </tr>\n",
       "    <tr>\n",
       "      <th>...</th>\n",
       "      <td>...</td>\n",
       "      <td>...</td>\n",
       "      <td>...</td>\n",
       "      <td>...</td>\n",
       "      <td>...</td>\n",
       "    </tr>\n",
       "    <tr>\n",
       "      <th>8821</th>\n",
       "      <td>0.001000</td>\n",
       "      <td>0.263895</td>\n",
       "      <td>2.000000</td>\n",
       "      <td>12.421053</td>\n",
       "      <td>0.862105</td>\n",
       "    </tr>\n",
       "    <tr>\n",
       "      <th>7221</th>\n",
       "      <td>0.001000</td>\n",
       "      <td>0.211316</td>\n",
       "      <td>2.000000</td>\n",
       "      <td>12.421053</td>\n",
       "      <td>0.862105</td>\n",
       "    </tr>\n",
       "    <tr>\n",
       "      <th>32911</th>\n",
       "      <td>0.001000</td>\n",
       "      <td>2.000000</td>\n",
       "      <td>22.842105</td>\n",
       "      <td>116.631579</td>\n",
       "      <td>0.862105</td>\n",
       "    </tr>\n",
       "    <tr>\n",
       "      <th>7181</th>\n",
       "      <td>0.001000</td>\n",
       "      <td>0.211316</td>\n",
       "      <td>1.000000</td>\n",
       "      <td>12.421053</td>\n",
       "      <td>0.862105</td>\n",
       "    </tr>\n",
       "    <tr>\n",
       "      <th>96868</th>\n",
       "      <td>0.053579</td>\n",
       "      <td>2.000000</td>\n",
       "      <td>12.421053</td>\n",
       "      <td>85.368421</td>\n",
       "      <td>0.880066</td>\n",
       "    </tr>\n",
       "  </tbody>\n",
       "</table>\n",
       "<p>2560000 rows × 5 columns</p>\n",
       "</div>"
      ],
      "text/plain": [
       "              w1        w2         w3          w4       sum\n",
       "588836  0.474211  0.421632   0.001000  168.736842 -0.574737\n",
       "460872  0.369053  0.421632   0.053579  127.052632 -0.574737\n",
       "720039  0.579368  0.526789   0.001000  200.000000 -0.574737\n",
       "659237  0.526789  0.631947   0.001000  179.157895 -0.574737\n",
       "587276  0.474211  0.369053   0.053579  168.736842 -0.574737\n",
       "...          ...       ...        ...         ...       ...\n",
       "8821    0.001000  0.263895   2.000000   12.421053  0.862105\n",
       "7221    0.001000  0.211316   2.000000   12.421053  0.862105\n",
       "32911   0.001000  2.000000  22.842105  116.631579  0.862105\n",
       "7181    0.001000  0.211316   1.000000   12.421053  0.862105\n",
       "96868   0.053579  2.000000  12.421053   85.368421  0.880066\n",
       "\n",
       "[2560000 rows x 5 columns]"
      ]
     },
     "execution_count": 10,
     "metadata": {},
     "output_type": "execute_result"
    }
   ],
   "source": [
    "main_data = pd.DataFrame(dict_).transpose().sort_values(by = 'sum')\n",
    "main_data"
   ]
  },
  {
   "cell_type": "code",
   "execution_count": null,
   "metadata": {},
   "outputs": [],
   "source": [
    "# main_data.to_csv('weights_nd_pearson.csv', sep=',', index=False, encoding='utf-8')"
   ]
  },
  {
   "cell_type": "code",
   "execution_count": 11,
   "metadata": {},
   "outputs": [
    {
     "data": {
      "text/plain": [
       "[<matplotlib.lines.Line2D at 0x1f4b4984ac0>]"
      ]
     },
     "execution_count": 11,
     "metadata": {},
     "output_type": "execute_result"
    },
    {
     "data": {
      "image/png": "[encoded data removed]",
      "text/plain": [
       "<Figure size 432x288 with 1 Axes>"
      ]
     },
     "metadata": {
      "needs_background": "light"
     },
     "output_type": "display_data"
    }
   ],
   "source": [
    "import matplotlib.pyplot as plt\n",
    "plt.plot([x+1 for x in range(len(main_data['sum']))], main_data['sum'])"
   ]
  },
  {
   "cell_type": "code",
   "execution_count": null,
   "metadata": {},
   "outputs": [],
   "source": [
    "np.array(main_data)[-1]"
   ]
  },
  {
   "cell_type": "code",
   "execution_count": 12,
   "metadata": {},
   "outputs": [
    {
     "data": {
      "text/plain": [
       "array([5.35789474e-02, 2.00000000e+00, 1.24210526e+01, 8.53684211e+01])"
      ]
     },
     "execution_count": 12,
     "metadata": {},
     "output_type": "execute_result"
    }
   ],
   "source": [
    "weights = np.array(main_data)[-1][:-1]\n",
    "weights"
   ]
  },
  {
   "cell_type": "code",
   "execution_count": 52,
   "metadata": {},
   "outputs": [
    {
     "data": {
      "text/html": [
       "<div>\n",
       "<style scoped>\n",
       "    .dataframe tbody tr th:only-of-type {\n",
       "        vertical-align: middle;\n",
       "    }\n",
       "\n",
       "    .dataframe tbody tr th {\n",
       "        vertical-align: top;\n",
       "    }\n",
       "\n",
       "    .dataframe thead th {\n",
       "        text-align: right;\n",
       "    }\n",
       "</style>\n",
       "<table border=\"1\" class=\"dataframe\">\n",
       "  <thead>\n",
       "    <tr style=\"text-align: right;\">\n",
       "      <th></th>\n",
       "      <th>w1</th>\n",
       "      <th>w2</th>\n",
       "      <th>w3</th>\n",
       "      <th>w4</th>\n",
       "      <th>sum</th>\n",
       "    </tr>\n",
       "  </thead>\n",
       "  <tbody>\n",
       "    <tr>\n",
       "      <th>0</th>\n",
       "      <td>0.579368</td>\n",
       "      <td>20.000000</td>\n",
       "      <td>12.000000</td>\n",
       "      <td>28.0</td>\n",
       "      <td>-0.644004</td>\n",
       "    </tr>\n",
       "    <tr>\n",
       "      <th>1</th>\n",
       "      <td>0.947421</td>\n",
       "      <td>34.000000</td>\n",
       "      <td>20.000000</td>\n",
       "      <td>42.0</td>\n",
       "      <td>-0.644004</td>\n",
       "    </tr>\n",
       "    <tr>\n",
       "      <th>2</th>\n",
       "      <td>0.947421</td>\n",
       "      <td>36.000000</td>\n",
       "      <td>20.000000</td>\n",
       "      <td>36.0</td>\n",
       "      <td>-0.644004</td>\n",
       "    </tr>\n",
       "    <tr>\n",
       "      <th>3</th>\n",
       "      <td>0.684526</td>\n",
       "      <td>26.000000</td>\n",
       "      <td>14.000000</td>\n",
       "      <td>24.0</td>\n",
       "      <td>-0.644004</td>\n",
       "    </tr>\n",
       "    <tr>\n",
       "      <th>4</th>\n",
       "      <td>0.842263</td>\n",
       "      <td>32.000000</td>\n",
       "      <td>18.000000</td>\n",
       "      <td>32.0</td>\n",
       "      <td>-0.644004</td>\n",
       "    </tr>\n",
       "    <tr>\n",
       "      <th>...</th>\n",
       "      <td>...</td>\n",
       "      <td>...</td>\n",
       "      <td>...</td>\n",
       "      <td>...</td>\n",
       "      <td>...</td>\n",
       "    </tr>\n",
       "    <tr>\n",
       "      <th>4100620</th>\n",
       "      <td>0.369053</td>\n",
       "      <td>0.211316</td>\n",
       "      <td>0.106158</td>\n",
       "      <td>6.0</td>\n",
       "      <td>0.314093</td>\n",
       "    </tr>\n",
       "    <tr>\n",
       "      <th>4100621</th>\n",
       "      <td>0.369053</td>\n",
       "      <td>0.211316</td>\n",
       "      <td>0.158737</td>\n",
       "      <td>6.0</td>\n",
       "      <td>0.314093</td>\n",
       "    </tr>\n",
       "    <tr>\n",
       "      <th>4100622</th>\n",
       "      <td>0.894842</td>\n",
       "      <td>0.631947</td>\n",
       "      <td>0.369053</td>\n",
       "      <td>14.0</td>\n",
       "      <td>0.314093</td>\n",
       "    </tr>\n",
       "    <tr>\n",
       "      <th>4100623</th>\n",
       "      <td>2.000000</td>\n",
       "      <td>0.106158</td>\n",
       "      <td>0.947421</td>\n",
       "      <td>34.0</td>\n",
       "      <td>0.314093</td>\n",
       "    </tr>\n",
       "    <tr>\n",
       "      <th>4100624</th>\n",
       "      <td>0.947421</td>\n",
       "      <td>0.894842</td>\n",
       "      <td>0.631947</td>\n",
       "      <td>14.0</td>\n",
       "      <td>0.314093</td>\n",
       "    </tr>\n",
       "  </tbody>\n",
       "</table>\n",
       "<p>4100625 rows × 5 columns</p>\n",
       "</div>"
      ],
      "text/plain": [
       "               w1         w2         w3    w4       sum\n",
       "0        0.579368  20.000000  12.000000  28.0 -0.644004\n",
       "1        0.947421  34.000000  20.000000  42.0 -0.644004\n",
       "2        0.947421  36.000000  20.000000  36.0 -0.644004\n",
       "3        0.684526  26.000000  14.000000  24.0 -0.644004\n",
       "4        0.842263  32.000000  18.000000  32.0 -0.644004\n",
       "...           ...        ...        ...   ...       ...\n",
       "4100620  0.369053   0.211316   0.106158   6.0  0.314093\n",
       "4100621  0.369053   0.211316   0.158737   6.0  0.314093\n",
       "4100622  0.894842   0.631947   0.369053  14.0  0.314093\n",
       "4100623  2.000000   0.106158   0.947421  34.0  0.314093\n",
       "4100624  0.947421   0.894842   0.631947  14.0  0.314093\n",
       "\n",
       "[4100625 rows x 5 columns]"
      ]
     },
     "execution_count": 52,
     "metadata": {},
     "output_type": "execute_result"
    }
   ],
   "source": [
    "import pandas as pd \n",
    "import numpy as np\n",
    "\n",
    "# weights = np.array(main_data)[-1][:-1]\n",
    "\n",
    "\n",
    "# weights_nd_pearson = pd.read_csv('./weights_nd_pearson.csv',  index_col=None)\n",
    "weights_nd_pearson"
   ]
  },
  {
   "cell_type": "code",
   "execution_count": 17,
   "metadata": {},
   "outputs": [
    {
     "data": {
      "text/html": [
       "<div>\n",
       "<style scoped>\n",
       "    .dataframe tbody tr th:only-of-type {\n",
       "        vertical-align: middle;\n",
       "    }\n",
       "\n",
       "    .dataframe tbody tr th {\n",
       "        vertical-align: top;\n",
       "    }\n",
       "\n",
       "    .dataframe thead th {\n",
       "        text-align: right;\n",
       "    }\n",
       "</style>\n",
       "<table border=\"1\" class=\"dataframe\">\n",
       "  <thead>\n",
       "    <tr style=\"text-align: right;\">\n",
       "      <th></th>\n",
       "      <th>Unnamed: 0</th>\n",
       "      <th>Elec-SR</th>\n",
       "      <th>VdW-SR</th>\n",
       "      <th>Elec-LR</th>\n",
       "      <th>VdW-LR</th>\n",
       "      <th>sum_E</th>\n",
       "      <th>Expt_Kd</th>\n",
       "    </tr>\n",
       "  </thead>\n",
       "  <tbody>\n",
       "    <tr>\n",
       "      <th>0</th>\n",
       "      <td>wild-Nd/Ang</td>\n",
       "      <td>-8783.4075</td>\n",
       "      <td>113.85120</td>\n",
       "      <td>815.6950</td>\n",
       "      <td>40.4315</td>\n",
       "      <td>-7813.42980</td>\n",
       "      <td>4070.0</td>\n",
       "    </tr>\n",
       "    <tr>\n",
       "      <th>1</th>\n",
       "      <td>wild-Nd/Li</td>\n",
       "      <td>-10190.4975</td>\n",
       "      <td>211.07550</td>\n",
       "      <td>797.1550</td>\n",
       "      <td>40.8267</td>\n",
       "      <td>-9141.44030</td>\n",
       "      <td>4070.0</td>\n",
       "    </tr>\n",
       "    <tr>\n",
       "      <th>2</th>\n",
       "      <td>D9H-Nd/Ang</td>\n",
       "      <td>-8555.1525</td>\n",
       "      <td>103.51035</td>\n",
       "      <td>831.6200</td>\n",
       "      <td>36.9790</td>\n",
       "      <td>-7583.04315</td>\n",
       "      <td>2150.0</td>\n",
       "    </tr>\n",
       "    <tr>\n",
       "      <th>3</th>\n",
       "      <td>D9H-Nd/Li</td>\n",
       "      <td>-9955.3475</td>\n",
       "      <td>178.12800</td>\n",
       "      <td>843.9525</td>\n",
       "      <td>36.8072</td>\n",
       "      <td>-8896.45980</td>\n",
       "      <td>2150.0</td>\n",
       "    </tr>\n",
       "    <tr>\n",
       "      <th>4</th>\n",
       "      <td>D9M-Nd/Ang</td>\n",
       "      <td>-8370.8500</td>\n",
       "      <td>113.48700</td>\n",
       "      <td>800.3425</td>\n",
       "      <td>39.2800</td>\n",
       "      <td>-7417.74050</td>\n",
       "      <td>1460.0</td>\n",
       "    </tr>\n",
       "    <tr>\n",
       "      <th>5</th>\n",
       "      <td>D9M-Nd/Li</td>\n",
       "      <td>-9660.9450</td>\n",
       "      <td>157.55010</td>\n",
       "      <td>798.4400</td>\n",
       "      <td>39.4845</td>\n",
       "      <td>-8665.47040</td>\n",
       "      <td>1460.0</td>\n",
       "    </tr>\n",
       "    <tr>\n",
       "      <th>6</th>\n",
       "      <td>D9A-Nd/Li</td>\n",
       "      <td>-10006.6200</td>\n",
       "      <td>221.09000</td>\n",
       "      <td>799.1525</td>\n",
       "      <td>37.6500</td>\n",
       "      <td>-8948.72750</td>\n",
       "      <td>397.0</td>\n",
       "    </tr>\n",
       "    <tr>\n",
       "      <th>7</th>\n",
       "      <td>D9A-Nd/Ang</td>\n",
       "      <td>-8364.8200</td>\n",
       "      <td>121.33250</td>\n",
       "      <td>808.6175</td>\n",
       "      <td>39.6900</td>\n",
       "      <td>-7395.18000</td>\n",
       "      <td>397.0</td>\n",
       "    </tr>\n",
       "    <tr>\n",
       "      <th>8</th>\n",
       "      <td>D9N-Nd/Ang</td>\n",
       "      <td>-8475.0350</td>\n",
       "      <td>115.78800</td>\n",
       "      <td>725.9150</td>\n",
       "      <td>40.3900</td>\n",
       "      <td>-7592.94200</td>\n",
       "      <td>53.1</td>\n",
       "    </tr>\n",
       "    <tr>\n",
       "      <th>9</th>\n",
       "      <td>D9N-Nd/LI</td>\n",
       "      <td>-9809.4650</td>\n",
       "      <td>164.27420</td>\n",
       "      <td>732.1500</td>\n",
       "      <td>40.4640</td>\n",
       "      <td>-8872.57680</td>\n",
       "      <td>53.1</td>\n",
       "    </tr>\n",
       "    <tr>\n",
       "      <th>10</th>\n",
       "      <td>wild-Ca</td>\n",
       "      <td>-6427.9075</td>\n",
       "      <td>-82.88120</td>\n",
       "      <td>801.5275</td>\n",
       "      <td>42.1087</td>\n",
       "      <td>-5667.15250</td>\n",
       "      <td>7.1</td>\n",
       "    </tr>\n",
       "  </tbody>\n",
       "</table>\n",
       "</div>"
      ],
      "text/plain": [
       "     Unnamed: 0     Elec-SR     VdW-SR   Elec-LR   VdW-LR       sum_E  Expt_Kd\n",
       "0   wild-Nd/Ang  -8783.4075  113.85120  815.6950  40.4315 -7813.42980   4070.0\n",
       "1    wild-Nd/Li -10190.4975  211.07550  797.1550  40.8267 -9141.44030   4070.0\n",
       "2    D9H-Nd/Ang  -8555.1525  103.51035  831.6200  36.9790 -7583.04315   2150.0\n",
       "3     D9H-Nd/Li  -9955.3475  178.12800  843.9525  36.8072 -8896.45980   2150.0\n",
       "4    D9M-Nd/Ang  -8370.8500  113.48700  800.3425  39.2800 -7417.74050   1460.0\n",
       "5     D9M-Nd/Li  -9660.9450  157.55010  798.4400  39.4845 -8665.47040   1460.0\n",
       "6     D9A-Nd/Li -10006.6200  221.09000  799.1525  37.6500 -8948.72750    397.0\n",
       "7    D9A-Nd/Ang  -8364.8200  121.33250  808.6175  39.6900 -7395.18000    397.0\n",
       "8    D9N-Nd/Ang  -8475.0350  115.78800  725.9150  40.3900 -7592.94200     53.1\n",
       "9     D9N-Nd/LI  -9809.4650  164.27420  732.1500  40.4640 -8872.57680     53.1\n",
       "10      wild-Ca  -6427.9075  -82.88120  801.5275  42.1087 -5667.15250      7.1"
      ]
     },
     "execution_count": 17,
     "metadata": {},
     "output_type": "execute_result"
    }
   ],
   "source": [
    "data"
   ]
  },
  {
   "cell_type": "code",
   "execution_count": null,
   "metadata": {},
   "outputs": [],
   "source": [
    "# weights = np.array(weights_nd_pearson)[-1][:-1]\n",
    "# weights"
   ]
  },
  {
   "cell_type": "code",
   "execution_count": null,
   "metadata": {},
   "outputs": [],
   "source": [
    "data"
   ]
  },
  {
   "cell_type": "code",
   "execution_count": 13,
   "metadata": {},
   "outputs": [],
   "source": [
    "system = {}\n",
    "energies = {}\n",
    "kd = {}\n",
    "\n",
    "\n",
    "\n",
    "for i in np.array(data):\n",
    "\n",
    "    a = {}\n",
    "    energies = i[1:-2]\n",
    "    a['energy'] = energies\n",
    "    a['kd'] = i[-2]\n",
    "    a['sum'] = sum(energies)\n",
    "    weighted_energy = np.multiply(np.array(energies),np.array(weights))\n",
    "    a['weighted_energy'] = weighted_energy\n",
    "    sum_weighted_energy = np.sum(np.multiply(np.array(energies),np.array(weights)))\n",
    "    a['weighted_sum'] = sum_weighted_energy\n",
    "    a['frac_contribution'] = weighted_energy/sum_weighted_energy\n",
    "\n",
    "    system[i[0]] = a\n"
   ]
  },
  {
   "cell_type": "code",
   "execution_count": 14,
   "metadata": {},
   "outputs": [],
   "source": [
    "def indexify(x):\n",
    "\n",
    "    seq = sorted(x, reverse = True)\n",
    "    index = [seq.index(v)+1 for v in x]\n",
    "    return index"
   ]
  },
  {
   "cell_type": "code",
   "execution_count": 18,
   "metadata": {},
   "outputs": [
    {
     "data": {
      "text/plain": [
       "dict_keys(['wild-Nd/Ang', 'wild-Nd/Li', 'D9H-Nd/Ang', 'D9H-Nd/Li', 'D9M-Nd/Ang', 'D9M-Nd/Li', 'D9A-Nd/Li', 'D9A-Nd/Ang', 'D9N-Nd/Ang', 'D9N-Nd/LI', 'wild-Ca'])"
      ]
     },
     "execution_count": 18,
     "metadata": {},
     "output_type": "execute_result"
    }
   ],
   "source": [
    "system.keys()"
   ]
  },
  {
   "cell_type": "code",
   "execution_count": 20,
   "metadata": {},
   "outputs": [],
   "source": [
    "kd_list = indexify(data['Expt_Kd'])\n",
    "sum_E = indexify([system[i]['sum'] for i in system.keys()])\n",
    "sum_wE = indexify([system[i]['weighted_sum'] for i in system.keys()])\n",
    "indx = list(system.keys())\n",
    "\n",
    "rank_weighted = {}\n",
    "rank_weighted['index'] = indx\n",
    "rank_weighted['kd_list'] = kd_list \n",
    "rank_weighted['sum_E'] = sum_E\n",
    "rank_weighted['sum_wE'] = sum_wE\n",
    "\n",
    "\n",
    "\n",
    "rank_weighted = pd.DataFrame(rank_weighted).sort_values(by = 'kd_list')"
   ]
  },
  {
   "cell_type": "code",
   "execution_count": 21,
   "metadata": {},
   "outputs": [
    {
     "data": {
      "text/html": [
       "<div>\n",
       "<style scoped>\n",
       "    .dataframe tbody tr th:only-of-type {\n",
       "        vertical-align: middle;\n",
       "    }\n",
       "\n",
       "    .dataframe tbody tr th {\n",
       "        vertical-align: top;\n",
       "    }\n",
       "\n",
       "    .dataframe thead th {\n",
       "        text-align: right;\n",
       "    }\n",
       "</style>\n",
       "<table border=\"1\" class=\"dataframe\">\n",
       "  <thead>\n",
       "    <tr style=\"text-align: right;\">\n",
       "      <th></th>\n",
       "      <th>index</th>\n",
       "      <th>kd_list</th>\n",
       "      <th>sum_E</th>\n",
       "      <th>sum_wE</th>\n",
       "    </tr>\n",
       "  </thead>\n",
       "  <tbody>\n",
       "    <tr>\n",
       "      <th>0</th>\n",
       "      <td>wild-Nd/Ang</td>\n",
       "      <td>1</td>\n",
       "      <td>6</td>\n",
       "      <td>2</td>\n",
       "    </tr>\n",
       "    <tr>\n",
       "      <th>1</th>\n",
       "      <td>wild-Nd/Li</td>\n",
       "      <td>1</td>\n",
       "      <td>11</td>\n",
       "      <td>3</td>\n",
       "    </tr>\n",
       "    <tr>\n",
       "      <th>2</th>\n",
       "      <td>D9H-Nd/Ang</td>\n",
       "      <td>3</td>\n",
       "      <td>4</td>\n",
       "      <td>4</td>\n",
       "    </tr>\n",
       "    <tr>\n",
       "      <th>3</th>\n",
       "      <td>D9H-Nd/Li</td>\n",
       "      <td>3</td>\n",
       "      <td>9</td>\n",
       "      <td>1</td>\n",
       "    </tr>\n",
       "    <tr>\n",
       "      <th>4</th>\n",
       "      <td>D9M-Nd/Ang</td>\n",
       "      <td>5</td>\n",
       "      <td>3</td>\n",
       "      <td>7</td>\n",
       "    </tr>\n",
       "    <tr>\n",
       "      <th>5</th>\n",
       "      <td>D9M-Nd/Li</td>\n",
       "      <td>5</td>\n",
       "      <td>7</td>\n",
       "      <td>6</td>\n",
       "    </tr>\n",
       "    <tr>\n",
       "      <th>6</th>\n",
       "      <td>D9A-Nd/Li</td>\n",
       "      <td>7</td>\n",
       "      <td>10</td>\n",
       "      <td>8</td>\n",
       "    </tr>\n",
       "    <tr>\n",
       "      <th>7</th>\n",
       "      <td>D9A-Nd/Ang</td>\n",
       "      <td>7</td>\n",
       "      <td>2</td>\n",
       "      <td>5</td>\n",
       "    </tr>\n",
       "    <tr>\n",
       "      <th>8</th>\n",
       "      <td>D9N-Nd/Ang</td>\n",
       "      <td>9</td>\n",
       "      <td>5</td>\n",
       "      <td>11</td>\n",
       "    </tr>\n",
       "    <tr>\n",
       "      <th>9</th>\n",
       "      <td>D9N-Nd/LI</td>\n",
       "      <td>9</td>\n",
       "      <td>8</td>\n",
       "      <td>10</td>\n",
       "    </tr>\n",
       "    <tr>\n",
       "      <th>10</th>\n",
       "      <td>wild-Ca</td>\n",
       "      <td>11</td>\n",
       "      <td>1</td>\n",
       "      <td>9</td>\n",
       "    </tr>\n",
       "  </tbody>\n",
       "</table>\n",
       "</div>"
      ],
      "text/plain": [
       "          index  kd_list  sum_E  sum_wE\n",
       "0   wild-Nd/Ang        1      6       2\n",
       "1    wild-Nd/Li        1     11       3\n",
       "2    D9H-Nd/Ang        3      4       4\n",
       "3     D9H-Nd/Li        3      9       1\n",
       "4    D9M-Nd/Ang        5      3       7\n",
       "5     D9M-Nd/Li        5      7       6\n",
       "6     D9A-Nd/Li        7     10       8\n",
       "7    D9A-Nd/Ang        7      2       5\n",
       "8    D9N-Nd/Ang        9      5      11\n",
       "9     D9N-Nd/LI        9      8      10\n",
       "10      wild-Ca       11      1       9"
      ]
     },
     "execution_count": 21,
     "metadata": {},
     "output_type": "execute_result"
    }
   ],
   "source": [
    "rank_weighted"
   ]
  },
  {
   "cell_type": "code",
   "execution_count": 22,
   "metadata": {},
   "outputs": [
    {
     "name": "stdout",
     "output_type": "stream",
     "text": [
      "[1, 1, 3, 3, 5, 5, 7, 7, 9, 9, 11]\n",
      "[2, 3, 4, 1, 7, 6, 8, 5, 11, 10, 9]\n",
      "0.8800659799311968\n",
      "----------------------\n",
      "[1, 1, 3, 3, 5, 5, 7, 7, 9, 9, 11]\n",
      "[6, 11, 4, 9, 3, 7, 10, 2, 5, 8, 1]\n",
      "-0.43105272486425983\n"
     ]
    }
   ],
   "source": [
    "print(kd_rank)\n",
    "\n",
    "print(sum_wE)\n",
    "print(np.corrcoef(kd_list,sum_wE)[1][0])\n",
    "\n",
    "print('----------------------')\n",
    "\n",
    "\n",
    "print(kd_list)\n",
    "print(sum_E)\n",
    "print(np.corrcoef(kd_list,sum_E)[1][0])"
   ]
  },
  {
   "cell_type": "code",
   "execution_count": 25,
   "metadata": {},
   "outputs": [
    {
     "data": {
      "text/plain": [
       "<matplotlib.legend.Legend at 0x1f4b6ee7e80>"
      ]
     },
     "execution_count": 25,
     "metadata": {},
     "output_type": "execute_result"
    },
    {
     "data": {
      "image/png": "[encoded data removed]",
      "text/plain": [
       "<Figure size 432x288 with 1 Axes>"
      ]
     },
     "metadata": {
      "needs_background": "light"
     },
     "output_type": "display_data"
    }
   ],
   "source": [
    "import matplotlib.pyplot as plt\n",
    "\n",
    "x = [i+1 for i in range(len(rank_weighted['kd_list']))]\n",
    "\n",
    "plt.plot(x,rank_weighted['kd_list'], marker = 'o')\n",
    "plt.plot(x,rank_weighted['sum_E'],color = 'r', marker = 'o')\n",
    "plt.plot(x,rank_weighted['sum_wE'],color = 'k', marker = 'o')\n",
    "plt.xticks(x,list(system.keys()),rotation = 90)\n",
    "\n",
    "plt.legend(['experimental kd','simulation kd', 'optimized weighted kd'])\n"
   ]
  },
  {
   "cell_type": "code",
   "execution_count": 32,
   "metadata": {},
   "outputs": [
    {
     "data": {
      "text/plain": [
       "<matplotlib.collections.PathCollection at 0x1f4b8006e80>"
      ]
     },
     "execution_count": 32,
     "metadata": {},
     "output_type": "execute_result"
    },
    {
     "data": {
      "image/png": "[encoded data removed]",
      "text/plain": [
       "<Figure size 432x288 with 1 Axes>"
      ]
     },
     "metadata": {
      "needs_background": "light"
     },
     "output_type": "display_data"
    }
   ],
   "source": [
    "y = main_data['w2'][0::10000]\n",
    "x = np.arange(len(y))\n",
    "plt.scatter(x,y)"
   ]
  },
  {
   "cell_type": "code",
   "execution_count": 30,
   "metadata": {},
   "outputs": [
    {
     "data": {
      "text/html": [
       "<div>\n",
       "<style scoped>\n",
       "    .dataframe tbody tr th:only-of-type {\n",
       "        vertical-align: middle;\n",
       "    }\n",
       "\n",
       "    .dataframe tbody tr th {\n",
       "        vertical-align: top;\n",
       "    }\n",
       "\n",
       "    .dataframe thead th {\n",
       "        text-align: right;\n",
       "    }\n",
       "</style>\n",
       "<table border=\"1\" class=\"dataframe\">\n",
       "  <thead>\n",
       "    <tr style=\"text-align: right;\">\n",
       "      <th></th>\n",
       "      <th>w1</th>\n",
       "      <th>w2</th>\n",
       "      <th>w3</th>\n",
       "      <th>w4</th>\n",
       "      <th>sum</th>\n",
       "    </tr>\n",
       "  </thead>\n",
       "  <tbody>\n",
       "    <tr>\n",
       "      <th>482553</th>\n",
       "      <td>0.369053</td>\n",
       "      <td>12.421053</td>\n",
       "      <td>33.263158</td>\n",
       "      <td>137.473684</td>\n",
       "      <td>0.826184</td>\n",
       "    </tr>\n",
       "    <tr>\n",
       "      <th>290595</th>\n",
       "      <td>0.211316</td>\n",
       "      <td>12.421053</td>\n",
       "      <td>43.684211</td>\n",
       "      <td>158.315789</td>\n",
       "      <td>0.826184</td>\n",
       "    </tr>\n",
       "    <tr>\n",
       "      <th>226596</th>\n",
       "      <td>0.158737</td>\n",
       "      <td>12.421053</td>\n",
       "      <td>43.684211</td>\n",
       "      <td>168.736842</td>\n",
       "      <td>0.826184</td>\n",
       "    </tr>\n",
       "    <tr>\n",
       "      <th>226595</th>\n",
       "      <td>0.158737</td>\n",
       "      <td>12.421053</td>\n",
       "      <td>43.684211</td>\n",
       "      <td>158.315789</td>\n",
       "      <td>0.826184</td>\n",
       "    </tr>\n",
       "    <tr>\n",
       "      <th>354597</th>\n",
       "      <td>0.263895</td>\n",
       "      <td>12.421053</td>\n",
       "      <td>43.684211</td>\n",
       "      <td>179.157895</td>\n",
       "      <td>0.826184</td>\n",
       "    </tr>\n",
       "    <tr>\n",
       "      <th>...</th>\n",
       "      <td>...</td>\n",
       "      <td>...</td>\n",
       "      <td>...</td>\n",
       "      <td>...</td>\n",
       "      <td>...</td>\n",
       "    </tr>\n",
       "    <tr>\n",
       "      <th>8821</th>\n",
       "      <td>0.001000</td>\n",
       "      <td>0.263895</td>\n",
       "      <td>2.000000</td>\n",
       "      <td>12.421053</td>\n",
       "      <td>0.862105</td>\n",
       "    </tr>\n",
       "    <tr>\n",
       "      <th>7221</th>\n",
       "      <td>0.001000</td>\n",
       "      <td>0.211316</td>\n",
       "      <td>2.000000</td>\n",
       "      <td>12.421053</td>\n",
       "      <td>0.862105</td>\n",
       "    </tr>\n",
       "    <tr>\n",
       "      <th>32911</th>\n",
       "      <td>0.001000</td>\n",
       "      <td>2.000000</td>\n",
       "      <td>22.842105</td>\n",
       "      <td>116.631579</td>\n",
       "      <td>0.862105</td>\n",
       "    </tr>\n",
       "    <tr>\n",
       "      <th>7181</th>\n",
       "      <td>0.001000</td>\n",
       "      <td>0.211316</td>\n",
       "      <td>1.000000</td>\n",
       "      <td>12.421053</td>\n",
       "      <td>0.862105</td>\n",
       "    </tr>\n",
       "    <tr>\n",
       "      <th>96868</th>\n",
       "      <td>0.053579</td>\n",
       "      <td>2.000000</td>\n",
       "      <td>12.421053</td>\n",
       "      <td>85.368421</td>\n",
       "      <td>0.880066</td>\n",
       "    </tr>\n",
       "  </tbody>\n",
       "</table>\n",
       "<p>89 rows × 5 columns</p>\n",
       "</div>"
      ],
      "text/plain": [
       "              w1         w2         w3          w4       sum\n",
       "482553  0.369053  12.421053  33.263158  137.473684  0.826184\n",
       "290595  0.211316  12.421053  43.684211  158.315789  0.826184\n",
       "226596  0.158737  12.421053  43.684211  168.736842  0.826184\n",
       "226595  0.158737  12.421053  43.684211  158.315789  0.826184\n",
       "354597  0.263895  12.421053  43.684211  179.157895  0.826184\n",
       "...          ...        ...        ...         ...       ...\n",
       "8821    0.001000   0.263895   2.000000   12.421053  0.862105\n",
       "7221    0.001000   0.211316   2.000000   12.421053  0.862105\n",
       "32911   0.001000   2.000000  22.842105  116.631579  0.862105\n",
       "7181    0.001000   0.211316   1.000000   12.421053  0.862105\n",
       "96868   0.053579   2.000000  12.421053   85.368421  0.880066\n",
       "\n",
       "[89 rows x 5 columns]"
      ]
     },
     "execution_count": 30,
     "metadata": {},
     "output_type": "execute_result"
    }
   ],
   "source": [
    "top_cands = main_data[main_data['sum'] > 0.82]#[main_data['w1'] > 1]\n",
    "top_cands"
   ]
  },
  {
   "cell_type": "code",
   "execution_count": 26,
   "metadata": {},
   "outputs": [
    {
     "data": {
      "text/plain": [
       "<matplotlib.legend.Legend at 0x1f4b6f43910>"
      ]
     },
     "execution_count": 26,
     "metadata": {},
     "output_type": "execute_result"
    },
    {
     "data": {
      "image/png": "[encoded data removed]",
      "text/plain": [
       "<Figure size 432x288 with 1 Axes>"
      ]
     },
     "metadata": {
      "needs_background": "light"
     },
     "output_type": "display_data"
    }
   ],
   "source": [
    "data_4 = np.array(data[[\"Elec-SR\",\"VdW-SR\",\"Elec-LR\",\"VdW-LR\"]])\n",
    "\n",
    "frac_es = [system[i]['frac_contribution'][0] for i in system.keys()]\n",
    "frac_vs = [system[i]['frac_contribution'][1] for i in system.keys()]\n",
    "frac_el = [system[i]['frac_contribution'][2] for i in system.keys()]\n",
    "frac_vl = [system[i]['frac_contribution'][3] for i in system.keys()]\n",
    "x_frac = [i+1 for i in range(len(frac_es))]\n",
    "\n",
    "\n",
    "plt.scatter(x_frac,frac_es)\n",
    "plt.scatter(x_frac,frac_vs)\n",
    "plt.scatter(x_frac,frac_el)\n",
    "plt.scatter(x_frac,frac_vl)\n",
    "# plt.xticks(x,list(data['System']),rotation = 90)\n",
    "plt.legend([\"Elec-SR\",\"VdW-SR\",\"Elec-LR\",\"VdW-LR\"])"
   ]
  },
  {
   "cell_type": "code",
   "execution_count": 38,
   "metadata": {},
   "outputs": [
    {
     "name": "stderr",
     "output_type": "stream",
     "text": [
      "c:\\Users\\15156\\anaconda3\\lib\\site-packages\\seaborn\\distributions.py:2619: FutureWarning: `distplot` is a deprecated function and will be removed in a future version. Please adapt your code to use either `displot` (a figure-level function with similar flexibility) or `histplot` (an axes-level function for histograms).\n",
      "  warnings.warn(msg, FutureWarning)\n",
      "c:\\Users\\15156\\anaconda3\\lib\\site-packages\\numpy\\lib\\histograms.py:906: RuntimeWarning: invalid value encountered in true_divide\n",
      "  return n/db/n.sum(), bin_edges\n",
      "c:\\Users\\15156\\anaconda3\\lib\\site-packages\\seaborn\\distributions.py:2619: FutureWarning: `distplot` is a deprecated function and will be removed in a future version. Please adapt your code to use either `displot` (a figure-level function with similar flexibility) or `histplot` (an axes-level function for histograms).\n",
      "  warnings.warn(msg, FutureWarning)\n",
      "c:\\Users\\15156\\anaconda3\\lib\\site-packages\\seaborn\\distributions.py:2619: FutureWarning: `distplot` is a deprecated function and will be removed in a future version. Please adapt your code to use either `displot` (a figure-level function with similar flexibility) or `histplot` (an axes-level function for histograms).\n",
      "  warnings.warn(msg, FutureWarning)\n",
      "c:\\Users\\15156\\anaconda3\\lib\\site-packages\\numpy\\lib\\histograms.py:906: RuntimeWarning: invalid value encountered in true_divide\n",
      "  return n/db/n.sum(), bin_edges\n",
      "c:\\Users\\15156\\anaconda3\\lib\\site-packages\\seaborn\\distributions.py:2619: FutureWarning: `distplot` is a deprecated function and will be removed in a future version. Please adapt your code to use either `displot` (a figure-level function with similar flexibility) or `histplot` (an axes-level function for histograms).\n",
      "  warnings.warn(msg, FutureWarning)\n"
     ]
    },
    {
     "data": {
      "text/plain": [
       "<matplotlib.legend.Legend at 0x1f4bb9e1d60>"
      ]
     },
     "execution_count": 38,
     "metadata": {},
     "output_type": "execute_result"
    },
    {
     "data": {
      "image/png": "[encoded data removed]",
      "text/plain": [
       "<Figure size 432x288 with 1 Axes>"
      ]
     },
     "metadata": {
      "needs_background": "light"
     },
     "output_type": "display_data"
    }
   ],
   "source": [
    "import seaborn as sns\n",
    "\n",
    "y1 = top_cands['w2'][top_cands['w1'] > 1][top_cands['w4'] > 30]\n",
    "y2 = top_cands['w2'][top_cands['w1'] <= 1][top_cands['w4'] > 30]\n",
    "y3 = top_cands['w2'][top_cands['w1'] > 1][top_cands['w4'] < 30]\n",
    "y4 = top_cands['w2'][top_cands['w1'] <= 1][top_cands['w4'] < 30]\n",
    "\n",
    "\n",
    "x1 = np.arange(len(y1))\n",
    "x2 = np.arange(len(y2))\n",
    "x3 = np.arange(len(y3))\n",
    "x4 = np.arange(len(y4))\n",
    "\n",
    "\n",
    "# plt.ylim([0,2])\n",
    "# plt.xlim([0,145])\n",
    "\n",
    "\n",
    "# plt.scatter(x1,y1,color = 'b')\n",
    "# plt.scatter(x2,y2,color='r')\n",
    "# plt.scatter(x3,y3,color ='g')\n",
    "# plt.scatter(x4,y4, color = 'k')\n",
    "sns.distplot(y1,color = 'b')\n",
    "sns.distplot(y2,color='r')\n",
    "sns.distplot(y3,color ='g')\n",
    "sns.distplot(y4, color = 'k')\n",
    "\n",
    "\n",
    "plt.title('weight term (w2) with vander walls short range')\n",
    "plt.xlabel('values of w2 with either (w1>1 & w4>30) or (w1<1 & w4<30) ')\n",
    "plt.legend(['w1 > 1 & w4 > 30','w1 < 1 & w4 < 30'])"
   ]
  },
  {
   "cell_type": "code",
   "execution_count": 41,
   "metadata": {},
   "outputs": [
    {
     "data": {
      "text/plain": [
       "Series([], Name: w2, dtype: float64)"
      ]
     },
     "execution_count": 41,
     "metadata": {},
     "output_type": "execute_result"
    }
   ],
   "source": [
    "y1"
   ]
  },
  {
   "cell_type": "code",
   "execution_count": 37,
   "metadata": {},
   "outputs": [
    {
     "data": {
      "text/plain": [
       "Text(0.5, 1.0, 'weight term with electrostatic long range')"
      ]
     },
     "execution_count": 37,
     "metadata": {},
     "output_type": "execute_result"
    },
    {
     "data": {
      "image/png": "[encoded data removed]",
      "text/plain": [
       "<Figure size 432x288 with 1 Axes>"
      ]
     },
     "metadata": {
      "needs_background": "light"
     },
     "output_type": "display_data"
    }
   ],
   "source": [
    "y = top_cands['w4']\n",
    "x = np.arange(len(y))\n",
    "\n",
    "plt.scatter(x,y)\n",
    "plt.title('weight term with electrostatic long range')"
   ]
  }
 ],
 "metadata": {
  "kernelspec": {
   "display_name": "base",
   "language": "python",
   "name": "python3"
  },
  "language_info": {
   "codemirror_mode": {
    "name": "ipython",
    "version": 3
   },
   "file_extension": ".py",
   "mimetype": "text/x-python",
   "name": "python",
   "nbconvert_exporter": "python",
   "pygments_lexer": "ipython3",
   "version": "3.9.12"
  },
  "orig_nbformat": 4
 },
 "nbformat": 4,
 "nbformat_minor": 2
}
