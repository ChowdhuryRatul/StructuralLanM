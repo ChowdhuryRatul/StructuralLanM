{
 "cells": [
  {
   "cell_type": "code",
   "execution_count": 1,
   "metadata": {},
   "outputs": [],
   "source": [
    "import pandas as pd \n",
    "import numpy as np\n",
    "\n",
    "# data = pd.read_csv('./data.csv',  index_col=None)\n",
    "data = pd.read_csv('./IntE_terms_for_Reweighting.csv',  index_col=None)\n",
    "\n",
    "\n",
    "\n",
    "def indexify(x):\n",
    "\n",
    "    seq = sorted(x, reverse = True)\n",
    "    index = [seq.index(v)+1 for v in x]\n",
    "    return index\n"
   ]
  },
  {
   "cell_type": "code",
   "execution_count": 2,
   "metadata": {},
   "outputs": [
    {
     "data": {
      "text/html": [
       "<div>\n",
       "<style scoped>\n",
       "    .dataframe tbody tr th:only-of-type {\n",
       "        vertical-align: middle;\n",
       "    }\n",
       "\n",
       "    .dataframe tbody tr th {\n",
       "        vertical-align: top;\n",
       "    }\n",
       "\n",
       "    .dataframe thead th {\n",
       "        text-align: right;\n",
       "    }\n",
       "</style>\n",
       "<table border=\"1\" class=\"dataframe\">\n",
       "  <thead>\n",
       "    <tr style=\"text-align: right;\">\n",
       "      <th></th>\n",
       "      <th>System</th>\n",
       "      <th>Elec-SR</th>\n",
       "      <th>VdW-SR</th>\n",
       "      <th>Elec-LR</th>\n",
       "      <th>VdW-LR</th>\n",
       "      <th>sum_E</th>\n",
       "      <th>Expt_Kd</th>\n",
       "    </tr>\n",
       "  </thead>\n",
       "  <tbody>\n",
       "    <tr>\n",
       "      <th>0</th>\n",
       "      <td>WT-Ca</td>\n",
       "      <td>-1950.9</td>\n",
       "      <td>-25.9</td>\n",
       "      <td>732.3</td>\n",
       "      <td>15.6</td>\n",
       "      <td>-1228.9</td>\n",
       "      <td>71000.00</td>\n",
       "    </tr>\n",
       "    <tr>\n",
       "      <th>1</th>\n",
       "      <td>4P2A-Ca</td>\n",
       "      <td>-2213.2</td>\n",
       "      <td>-24.1</td>\n",
       "      <td>756.8</td>\n",
       "      <td>15.9</td>\n",
       "      <td>-1464.6</td>\n",
       "      <td>26000.00</td>\n",
       "    </tr>\n",
       "    <tr>\n",
       "      <th>2</th>\n",
       "      <td>D9M-Nd</td>\n",
       "      <td>-3807.2</td>\n",
       "      <td>42.4</td>\n",
       "      <td>721.5</td>\n",
       "      <td>37.2</td>\n",
       "      <td>-3006.1</td>\n",
       "      <td>2150.00</td>\n",
       "    </tr>\n",
       "    <tr>\n",
       "      <th>3</th>\n",
       "      <td>D9H-Nd</td>\n",
       "      <td>-3842.6</td>\n",
       "      <td>43.4</td>\n",
       "      <td>754.4</td>\n",
       "      <td>39.7</td>\n",
       "      <td>-3005.1</td>\n",
       "      <td>1460.00</td>\n",
       "    </tr>\n",
       "    <tr>\n",
       "      <th>4</th>\n",
       "      <td>D9A-Nd</td>\n",
       "      <td>-3798.1</td>\n",
       "      <td>44.4</td>\n",
       "      <td>723.2</td>\n",
       "      <td>37.2</td>\n",
       "      <td>-2993.3</td>\n",
       "      <td>397.00</td>\n",
       "    </tr>\n",
       "    <tr>\n",
       "      <th>5</th>\n",
       "      <td>D9N-Nd</td>\n",
       "      <td>-3839.3</td>\n",
       "      <td>44.8</td>\n",
       "      <td>655.2</td>\n",
       "      <td>38.4</td>\n",
       "      <td>-3100.9</td>\n",
       "      <td>53.10</td>\n",
       "    </tr>\n",
       "    <tr>\n",
       "      <th>6</th>\n",
       "      <td>WT-Sm</td>\n",
       "      <td>-3361.2</td>\n",
       "      <td>44.4</td>\n",
       "      <td>732.4</td>\n",
       "      <td>38.6</td>\n",
       "      <td>-2545.8</td>\n",
       "      <td>6.60</td>\n",
       "    </tr>\n",
       "    <tr>\n",
       "      <th>7</th>\n",
       "      <td>WT-La</td>\n",
       "      <td>-3270.2</td>\n",
       "      <td>30.4</td>\n",
       "      <td>728.7</td>\n",
       "      <td>34.3</td>\n",
       "      <td>-2476.8</td>\n",
       "      <td>5.30</td>\n",
       "    </tr>\n",
       "    <tr>\n",
       "      <th>8</th>\n",
       "      <td>WT-Nd</td>\n",
       "      <td>-3339.8</td>\n",
       "      <td>38.9</td>\n",
       "      <td>730.1</td>\n",
       "      <td>36.7</td>\n",
       "      <td>-2534.1</td>\n",
       "      <td>5.30</td>\n",
       "    </tr>\n",
       "    <tr>\n",
       "      <th>9</th>\n",
       "      <td>WT-Tb</td>\n",
       "      <td>-3417.0</td>\n",
       "      <td>50.1</td>\n",
       "      <td>734.5</td>\n",
       "      <td>40.9</td>\n",
       "      <td>-2591.5</td>\n",
       "      <td>2.10</td>\n",
       "    </tr>\n",
       "    <tr>\n",
       "      <th>10</th>\n",
       "      <td>WT-Y</td>\n",
       "      <td>-3435.7</td>\n",
       "      <td>52.5</td>\n",
       "      <td>733.7</td>\n",
       "      <td>40.7</td>\n",
       "      <td>-2608.8</td>\n",
       "      <td>1.70</td>\n",
       "    </tr>\n",
       "    <tr>\n",
       "      <th>11</th>\n",
       "      <td>WT-Gd</td>\n",
       "      <td>-3380.1</td>\n",
       "      <td>45.3</td>\n",
       "      <td>732.2</td>\n",
       "      <td>38.8</td>\n",
       "      <td>-2563.8</td>\n",
       "      <td>1.00</td>\n",
       "    </tr>\n",
       "    <tr>\n",
       "      <th>12</th>\n",
       "      <td>4P2A-La</td>\n",
       "      <td>-3370.2</td>\n",
       "      <td>33.4</td>\n",
       "      <td>730.2</td>\n",
       "      <td>34.4</td>\n",
       "      <td>-2572.2</td>\n",
       "      <td>1.00</td>\n",
       "    </tr>\n",
       "    <tr>\n",
       "      <th>13</th>\n",
       "      <td>4P2A-Nd</td>\n",
       "      <td>-3837.7</td>\n",
       "      <td>31.4</td>\n",
       "      <td>755.6</td>\n",
       "      <td>33.8</td>\n",
       "      <td>-3016.9</td>\n",
       "      <td>0.44</td>\n",
       "    </tr>\n",
       "  </tbody>\n",
       "</table>\n",
       "</div>"
      ],
      "text/plain": [
       "     System  Elec-SR  VdW-SR  Elec-LR  VdW-LR   sum_E   Expt_Kd\n",
       "0     WT-Ca  -1950.9   -25.9    732.3    15.6 -1228.9  71000.00\n",
       "1   4P2A-Ca  -2213.2   -24.1    756.8    15.9 -1464.6  26000.00\n",
       "2    D9M-Nd  -3807.2    42.4    721.5    37.2 -3006.1   2150.00\n",
       "3    D9H-Nd  -3842.6    43.4    754.4    39.7 -3005.1   1460.00\n",
       "4    D9A-Nd  -3798.1    44.4    723.2    37.2 -2993.3    397.00\n",
       "5    D9N-Nd  -3839.3    44.8    655.2    38.4 -3100.9     53.10\n",
       "6     WT-Sm  -3361.2    44.4    732.4    38.6 -2545.8      6.60\n",
       "7     WT-La  -3270.2    30.4    728.7    34.3 -2476.8      5.30\n",
       "8     WT-Nd  -3339.8    38.9    730.1    36.7 -2534.1      5.30\n",
       "9     WT-Tb  -3417.0    50.1    734.5    40.9 -2591.5      2.10\n",
       "10     WT-Y  -3435.7    52.5    733.7    40.7 -2608.8      1.70\n",
       "11    WT-Gd  -3380.1    45.3    732.2    38.8 -2563.8      1.00\n",
       "12  4P2A-La  -3370.2    33.4    730.2    34.4 -2572.2      1.00\n",
       "13  4P2A-Nd  -3837.7    31.4    755.6    33.8 -3016.9      0.44"
      ]
     },
     "execution_count": 2,
     "metadata": {},
     "output_type": "execute_result"
    }
   ],
   "source": [
    "data"
   ]
  },
  {
   "cell_type": "code",
   "execution_count": 5,
   "metadata": {},
   "outputs": [
    {
     "data": {
      "text/plain": [
       "([<matplotlib.axis.XTick at 0x255dffb8310>,\n",
       "  <matplotlib.axis.XTick at 0x255dffb82e0>,\n",
       "  <matplotlib.axis.XTick at 0x255dfe96d30>,\n",
       "  <matplotlib.axis.XTick at 0x255dffca040>,\n",
       "  <matplotlib.axis.XTick at 0x255dffca640>,\n",
       "  <matplotlib.axis.XTick at 0x255dffcac70>,\n",
       "  <matplotlib.axis.XTick at 0x255dffd04c0>,\n",
       "  <matplotlib.axis.XTick at 0x255dffca610>,\n",
       "  <matplotlib.axis.XTick at 0x255dffd0280>,\n",
       "  <matplotlib.axis.XTick at 0x255dffd7040>,\n",
       "  <matplotlib.axis.XTick at 0x255dffd7700>,\n",
       "  <matplotlib.axis.XTick at 0x255dffd7e50>,\n",
       "  <matplotlib.axis.XTick at 0x255dffdd5e0>,\n",
       "  <matplotlib.axis.XTick at 0x255dffd7eb0>],\n",
       " [Text(1, 0, 'WT-Ca'),\n",
       "  Text(2, 0, '4P2A-Ca'),\n",
       "  Text(3, 0, 'D9M-Nd'),\n",
       "  Text(4, 0, 'D9H-Nd'),\n",
       "  Text(5, 0, 'D9A-Nd'),\n",
       "  Text(6, 0, 'D9N-Nd'),\n",
       "  Text(7, 0, 'WT-Sm'),\n",
       "  Text(8, 0, 'WT-La'),\n",
       "  Text(9, 0, 'WT-Nd'),\n",
       "  Text(10, 0, 'WT-Tb'),\n",
       "  Text(11, 0, 'WT-Y'),\n",
       "  Text(12, 0, 'WT-Gd'),\n",
       "  Text(13, 0, '4P2A-La'),\n",
       "  Text(14, 0, '4P2A-Nd')])"
      ]
     },
     "execution_count": 5,
     "metadata": {},
     "output_type": "execute_result"
    },
    {
     "data": {
      "image/png": "[encoded data removed]",
      "text/plain": [
       "<Figure size 432x288 with 1 Axes>"
      ]
     },
     "metadata": {
      "needs_background": "light"
     },
     "output_type": "display_data"
    }
   ],
   "source": [
    "import matplotlib.pyplot as plt \n",
    "\n",
    "y1 = indexify(data['Expt_Kd'])\n",
    "y2 = indexify(data['sum_E'])\n",
    "\n",
    "x = [i+1 for i in range(len(y1))]\n",
    "\n",
    "\n",
    "plt.plot(x,y1)\n",
    "plt.plot(x,y2)\n",
    "plt.xticks(x,list(data['System']),rotation = 90)"
   ]
  },
  {
   "cell_type": "code",
   "execution_count": 4,
   "metadata": {},
   "outputs": [
    {
     "name": "stdout",
     "output_type": "stream",
     "text": [
      "[1, 2, 3, 4, 5, 6, 7, 8, 8, 10, 11, 12, 12, 14]\n"
     ]
    }
   ],
   "source": [
    "kd_rank = indexify(list(data['Expt_Kd']))\n",
    "print(kd_rank)"
   ]
  },
  {
   "cell_type": "code",
   "execution_count": 5,
   "metadata": {},
   "outputs": [
    {
     "data": {
      "text/plain": [
       "array([[-1950.9,   -25.9,   732.3,    15.6],\n",
       "       [-2213.2,   -24.1,   756.8,    15.9],\n",
       "       [-3807.2,    42.4,   721.5,    37.2],\n",
       "       [-3842.6,    43.4,   754.4,    39.7],\n",
       "       [-3798.1,    44.4,   723.2,    37.2],\n",
       "       [-3839.3,    44.8,   655.2,    38.4],\n",
       "       [-3361.2,    44.4,   732.4,    38.6],\n",
       "       [-3270.2,    30.4,   728.7,    34.3],\n",
       "       [-3339.8,    38.9,   730.1,    36.7],\n",
       "       [-3417. ,    50.1,   734.5,    40.9],\n",
       "       [-3435.7,    52.5,   733.7,    40.7],\n",
       "       [-3380.1,    45.3,   732.2,    38.8],\n",
       "       [-3370.2,    33.4,   730.2,    34.4],\n",
       "       [-3837.7,    31.4,   755.6,    33.8]])"
      ]
     },
     "execution_count": 5,
     "metadata": {},
     "output_type": "execute_result"
    }
   ],
   "source": [
    "weights = np.array([1,1,1,1])\n",
    "data_4 = np.array(data[[\"Elec-SR\",\"VdW-SR\",\"Elec-LR\",\"VdW-LR\"]])\n",
    "data_4"
   ]
  },
  {
   "cell_type": "code",
   "execution_count": 6,
   "metadata": {},
   "outputs": [
    {
     "name": "stdout",
     "output_type": "stream",
     "text": [
      "[1, 2, 12, 11, 10, 14, 5, 3, 4, 8, 9, 6, 7, 13]\n"
     ]
    }
   ],
   "source": [
    "list_ = indexify(data['sum_E'])\n",
    "\n",
    "print(list_)"
   ]
  },
  {
   "cell_type": "code",
   "execution_count": 7,
   "metadata": {},
   "outputs": [],
   "source": [
    "def sum_calc_easy(weights, kd_rank, data_4):\n",
    "    list_ = []\n",
    "    for i in range(data_4.shape[0]):\n",
    "        list_.append(np.sum(data_4[i]*weights))\n",
    "\n",
    "    list_ = indexify(np.array(list_))\n",
    "\n",
    "\n",
    "\n",
    "    return np.corrcoef(np.array(list_),np.array(kd_rank))[1][0]"
   ]
  },
  {
   "cell_type": "code",
   "execution_count": 21,
   "metadata": {},
   "outputs": [
    {
     "data": {
      "text/plain": [
       "array([1.00000000e-04, 5.27263158e-02, 1.05352632e-01, 1.57978947e-01,\n",
       "       2.10605263e-01, 2.63231579e-01, 3.15857895e-01, 3.68484211e-01,\n",
       "       4.21110526e-01, 4.73736842e-01, 5.26363158e-01, 5.78989474e-01,\n",
       "       6.31615789e-01, 6.84242105e-01, 7.36868421e-01, 7.89494737e-01,\n",
       "       8.42121053e-01, 8.94747368e-01, 9.47373684e-01, 1.00000000e+00,\n",
       "       2.00000000e+00, 5.45263158e+01, 1.07052632e+02, 1.59578947e+02,\n",
       "       2.12105263e+02, 2.64631579e+02, 3.17157895e+02, 3.69684211e+02,\n",
       "       4.22210526e+02, 4.74736842e+02, 5.27263158e+02, 5.79789474e+02,\n",
       "       6.32315789e+02, 6.84842105e+02, 7.37368421e+02, 7.89894737e+02,\n",
       "       8.42421053e+02, 8.94947368e+02, 9.47473684e+02, 1.00000000e+03])"
      ]
     },
     "execution_count": 21,
     "metadata": {},
     "output_type": "execute_result"
    }
   ],
   "source": [
    "frac = np.linspace(.0001,1,20)\n",
    "mult = np.linspace(2,1000,20)\n",
    "frac_mult = np.concatenate((frac,mult), axis = 0)\n",
    "frac_mult"
   ]
  },
  {
   "cell_type": "code",
   "execution_count": 22,
   "metadata": {},
   "outputs": [],
   "source": [
    "dict_ = {}\n",
    "counter = 0\n",
    "for i in frac_mult:\n",
    "    for j in frac_mult:\n",
    "        for k in frac_mult:\n",
    "            for l in frac_mult:\n",
    "                inside_dict = {}\n",
    "                inside_dict['w1'] = i\n",
    "                inside_dict['w2'] = j\n",
    "                inside_dict['w3'] = k\n",
    "                inside_dict['w4'] = l \n",
    "                \n",
    "                sum_ = sum_calc_easy(np.array([i,j,k,l]), kd_rank, data_4)\n",
    "                inside_dict['sum'] = sum_\n",
    "                dict_[counter] = inside_dict\n",
    "                counter+=1"
   ]
  },
  {
   "cell_type": "code",
   "execution_count": null,
   "metadata": {},
   "outputs": [],
   "source": [
    "# import pickle\n",
    "\n",
    "# with open('weights_n_pearson.pkl', 'wb') as fp:\n",
    "#     pickle.dump(dict_, fp)\n",
    "#     print('dictionary saved successfully to file')"
   ]
  },
  {
   "cell_type": "code",
   "execution_count": 24,
   "metadata": {},
   "outputs": [
    {
     "data": {
      "text/html": [
       "<div>\n",
       "<style scoped>\n",
       "    .dataframe tbody tr th:only-of-type {\n",
       "        vertical-align: middle;\n",
       "    }\n",
       "\n",
       "    .dataframe tbody tr th {\n",
       "        vertical-align: top;\n",
       "    }\n",
       "\n",
       "    .dataframe thead th {\n",
       "        text-align: right;\n",
       "    }\n",
       "</style>\n",
       "<table border=\"1\" class=\"dataframe\">\n",
       "  <thead>\n",
       "    <tr style=\"text-align: right;\">\n",
       "      <th></th>\n",
       "      <th>w1</th>\n",
       "      <th>w2</th>\n",
       "      <th>w3</th>\n",
       "      <th>w4</th>\n",
       "      <th>sum</th>\n",
       "    </tr>\n",
       "  </thead>\n",
       "  <tbody>\n",
       "    <tr>\n",
       "      <th>1186502</th>\n",
       "      <td>0.947374</td>\n",
       "      <td>54.526316</td>\n",
       "      <td>107.052632</td>\n",
       "      <td>107.052632</td>\n",
       "      <td>-0.621407</td>\n",
       "    </tr>\n",
       "    <tr>\n",
       "      <th>1250502</th>\n",
       "      <td>1.000000</td>\n",
       "      <td>54.526316</td>\n",
       "      <td>107.052632</td>\n",
       "      <td>107.052632</td>\n",
       "      <td>-0.621407</td>\n",
       "    </tr>\n",
       "    <tr>\n",
       "      <th>1316184</th>\n",
       "      <td>2.000000</td>\n",
       "      <td>107.052632</td>\n",
       "      <td>212.105263</td>\n",
       "      <td>212.105263</td>\n",
       "      <td>-0.621407</td>\n",
       "    </tr>\n",
       "    <tr>\n",
       "      <th>802501</th>\n",
       "      <td>0.631616</td>\n",
       "      <td>54.526316</td>\n",
       "      <td>107.052632</td>\n",
       "      <td>54.526316</td>\n",
       "      <td>-0.621407</td>\n",
       "    </tr>\n",
       "    <tr>\n",
       "      <th>1316183</th>\n",
       "      <td>2.000000</td>\n",
       "      <td>107.052632</td>\n",
       "      <td>212.105263</td>\n",
       "      <td>159.578947</td>\n",
       "      <td>-0.616888</td>\n",
       "    </tr>\n",
       "    <tr>\n",
       "      <th>...</th>\n",
       "      <td>...</td>\n",
       "      <td>...</td>\n",
       "      <td>...</td>\n",
       "      <td>...</td>\n",
       "      <td>...</td>\n",
       "    </tr>\n",
       "    <tr>\n",
       "      <th>1348999</th>\n",
       "      <td>54.526316</td>\n",
       "      <td>0.157979</td>\n",
       "      <td>0.210605</td>\n",
       "      <td>1000.000000</td>\n",
       "      <td>0.314093</td>\n",
       "    </tr>\n",
       "    <tr>\n",
       "      <th>1344559</th>\n",
       "      <td>54.526316</td>\n",
       "      <td>0.000100</td>\n",
       "      <td>0.684242</td>\n",
       "      <td>1000.000000</td>\n",
       "      <td>0.314093</td>\n",
       "    </tr>\n",
       "    <tr>\n",
       "      <th>1348959</th>\n",
       "      <td>54.526316</td>\n",
       "      <td>0.157979</td>\n",
       "      <td>0.157979</td>\n",
       "      <td>1000.000000</td>\n",
       "      <td>0.314093</td>\n",
       "    </tr>\n",
       "    <tr>\n",
       "      <th>1353919</th>\n",
       "      <td>54.526316</td>\n",
       "      <td>0.315858</td>\n",
       "      <td>0.368484</td>\n",
       "      <td>1000.000000</td>\n",
       "      <td>0.314093</td>\n",
       "    </tr>\n",
       "    <tr>\n",
       "      <th>1350999</th>\n",
       "      <td>54.526316</td>\n",
       "      <td>0.210605</td>\n",
       "      <td>0.736868</td>\n",
       "      <td>1000.000000</td>\n",
       "      <td>0.314093</td>\n",
       "    </tr>\n",
       "  </tbody>\n",
       "</table>\n",
       "<p>2560000 rows × 5 columns</p>\n",
       "</div>"
      ],
      "text/plain": [
       "                w1          w2          w3           w4       sum\n",
       "1186502   0.947374   54.526316  107.052632   107.052632 -0.621407\n",
       "1250502   1.000000   54.526316  107.052632   107.052632 -0.621407\n",
       "1316184   2.000000  107.052632  212.105263   212.105263 -0.621407\n",
       "802501    0.631616   54.526316  107.052632    54.526316 -0.621407\n",
       "1316183   2.000000  107.052632  212.105263   159.578947 -0.616888\n",
       "...            ...         ...         ...          ...       ...\n",
       "1348999  54.526316    0.157979    0.210605  1000.000000  0.314093\n",
       "1344559  54.526316    0.000100    0.684242  1000.000000  0.314093\n",
       "1348959  54.526316    0.157979    0.157979  1000.000000  0.314093\n",
       "1353919  54.526316    0.315858    0.368484  1000.000000  0.314093\n",
       "1350999  54.526316    0.210605    0.736868  1000.000000  0.314093\n",
       "\n",
       "[2560000 rows x 5 columns]"
      ]
     },
     "execution_count": 24,
     "metadata": {},
     "output_type": "execute_result"
    }
   ],
   "source": [
    "main_data = pd.DataFrame(dict_).transpose().sort_values(by = 'sum')\n",
    "main_data"
   ]
  },
  {
   "cell_type": "code",
   "execution_count": null,
   "metadata": {},
   "outputs": [],
   "source": [
    "# main_data.to_csv('weights_nd_pearson.csv', sep=',', index=False, encoding='utf-8')"
   ]
  },
  {
   "cell_type": "code",
   "execution_count": 25,
   "metadata": {},
   "outputs": [
    {
     "data": {
      "text/plain": [
       "[<matplotlib.lines.Line2D at 0x1e3b1138e20>]"
      ]
     },
     "execution_count": 25,
     "metadata": {},
     "output_type": "execute_result"
    },
    {
     "data": {
      "image/png": "[encoded data removed]",
      "text/plain": [
       "<Figure size 432x288 with 1 Axes>"
      ]
     },
     "metadata": {
      "needs_background": "light"
     },
     "output_type": "display_data"
    }
   ],
   "source": [
    "import matplotlib.pyplot as plt\n",
    "plt.plot([x+1 for x in range(len(main_data['sum']))], main_data['sum'])"
   ]
  },
  {
   "cell_type": "code",
   "execution_count": 26,
   "metadata": {},
   "outputs": [
    {
     "data": {
      "text/plain": [
       "array([5.45263158e+01, 2.10605263e-01, 7.36868421e-01, 1.00000000e+03,\n",
       "       3.14093216e-01])"
      ]
     },
     "execution_count": 26,
     "metadata": {},
     "output_type": "execute_result"
    }
   ],
   "source": [
    "np.array(main_data)[-1]"
   ]
  },
  {
   "cell_type": "code",
   "execution_count": 27,
   "metadata": {},
   "outputs": [
    {
     "data": {
      "text/plain": [
       "array([5.45263158e+01, 2.10605263e-01, 7.36868421e-01, 1.00000000e+03])"
      ]
     },
     "execution_count": 27,
     "metadata": {},
     "output_type": "execute_result"
    }
   ],
   "source": [
    "weights = np.array(main_data)[-1][:-1]\n",
    "weights"
   ]
  },
  {
   "cell_type": "code",
   "execution_count": null,
   "metadata": {},
   "outputs": [],
   "source": [
    "import pandas as pd \n",
    "import numpy as np\n",
    "\n",
    "\n",
    "\n",
    "\n",
    "weights_nd_pearson = pd.read_csv('./weights_nd_pearson.csv',  index_col=None)\n",
    "weights = np.array(main_data)[-1][:-1]\n",
    "\n",
    "weights_nd_pearson"
   ]
  },
  {
   "cell_type": "code",
   "execution_count": 14,
   "metadata": {},
   "outputs": [
    {
     "data": {
      "text/html": [
       "<div>\n",
       "<style scoped>\n",
       "    .dataframe tbody tr th:only-of-type {\n",
       "        vertical-align: middle;\n",
       "    }\n",
       "\n",
       "    .dataframe tbody tr th {\n",
       "        vertical-align: top;\n",
       "    }\n",
       "\n",
       "    .dataframe thead th {\n",
       "        text-align: right;\n",
       "    }\n",
       "</style>\n",
       "<table border=\"1\" class=\"dataframe\">\n",
       "  <thead>\n",
       "    <tr style=\"text-align: right;\">\n",
       "      <th></th>\n",
       "      <th>System</th>\n",
       "      <th>Elec-SR</th>\n",
       "      <th>VdW-SR</th>\n",
       "      <th>Elec-LR</th>\n",
       "      <th>VdW-LR</th>\n",
       "      <th>sum_E</th>\n",
       "      <th>Expt_Kd</th>\n",
       "    </tr>\n",
       "  </thead>\n",
       "  <tbody>\n",
       "    <tr>\n",
       "      <th>0</th>\n",
       "      <td>WT-Ca</td>\n",
       "      <td>-1950.9</td>\n",
       "      <td>-25.9</td>\n",
       "      <td>732.3</td>\n",
       "      <td>15.6</td>\n",
       "      <td>-1228.9</td>\n",
       "      <td>71000.00</td>\n",
       "    </tr>\n",
       "    <tr>\n",
       "      <th>1</th>\n",
       "      <td>4P2A-Ca</td>\n",
       "      <td>-2213.2</td>\n",
       "      <td>-24.1</td>\n",
       "      <td>756.8</td>\n",
       "      <td>15.9</td>\n",
       "      <td>-1464.6</td>\n",
       "      <td>26000.00</td>\n",
       "    </tr>\n",
       "    <tr>\n",
       "      <th>2</th>\n",
       "      <td>D9M-Nd</td>\n",
       "      <td>-3807.2</td>\n",
       "      <td>42.4</td>\n",
       "      <td>721.5</td>\n",
       "      <td>37.2</td>\n",
       "      <td>-3006.1</td>\n",
       "      <td>2150.00</td>\n",
       "    </tr>\n",
       "    <tr>\n",
       "      <th>3</th>\n",
       "      <td>D9H-Nd</td>\n",
       "      <td>-3842.6</td>\n",
       "      <td>43.4</td>\n",
       "      <td>754.4</td>\n",
       "      <td>39.7</td>\n",
       "      <td>-3005.1</td>\n",
       "      <td>1460.00</td>\n",
       "    </tr>\n",
       "    <tr>\n",
       "      <th>4</th>\n",
       "      <td>D9A-Nd</td>\n",
       "      <td>-3798.1</td>\n",
       "      <td>44.4</td>\n",
       "      <td>723.2</td>\n",
       "      <td>37.2</td>\n",
       "      <td>-2993.3</td>\n",
       "      <td>397.00</td>\n",
       "    </tr>\n",
       "    <tr>\n",
       "      <th>5</th>\n",
       "      <td>D9N-Nd</td>\n",
       "      <td>-3839.3</td>\n",
       "      <td>44.8</td>\n",
       "      <td>655.2</td>\n",
       "      <td>38.4</td>\n",
       "      <td>-3100.9</td>\n",
       "      <td>53.10</td>\n",
       "    </tr>\n",
       "    <tr>\n",
       "      <th>6</th>\n",
       "      <td>WT-Sm</td>\n",
       "      <td>-3361.2</td>\n",
       "      <td>44.4</td>\n",
       "      <td>732.4</td>\n",
       "      <td>38.6</td>\n",
       "      <td>-2545.8</td>\n",
       "      <td>6.60</td>\n",
       "    </tr>\n",
       "    <tr>\n",
       "      <th>7</th>\n",
       "      <td>WT-La</td>\n",
       "      <td>-3270.2</td>\n",
       "      <td>30.4</td>\n",
       "      <td>728.7</td>\n",
       "      <td>34.3</td>\n",
       "      <td>-2476.8</td>\n",
       "      <td>5.30</td>\n",
       "    </tr>\n",
       "    <tr>\n",
       "      <th>8</th>\n",
       "      <td>WT-Nd</td>\n",
       "      <td>-3339.8</td>\n",
       "      <td>38.9</td>\n",
       "      <td>730.1</td>\n",
       "      <td>36.7</td>\n",
       "      <td>-2534.1</td>\n",
       "      <td>5.30</td>\n",
       "    </tr>\n",
       "    <tr>\n",
       "      <th>9</th>\n",
       "      <td>WT-Tb</td>\n",
       "      <td>-3417.0</td>\n",
       "      <td>50.1</td>\n",
       "      <td>734.5</td>\n",
       "      <td>40.9</td>\n",
       "      <td>-2591.5</td>\n",
       "      <td>2.10</td>\n",
       "    </tr>\n",
       "    <tr>\n",
       "      <th>10</th>\n",
       "      <td>WT-Y</td>\n",
       "      <td>-3435.7</td>\n",
       "      <td>52.5</td>\n",
       "      <td>733.7</td>\n",
       "      <td>40.7</td>\n",
       "      <td>-2608.8</td>\n",
       "      <td>1.70</td>\n",
       "    </tr>\n",
       "    <tr>\n",
       "      <th>11</th>\n",
       "      <td>WT-Gd</td>\n",
       "      <td>-3380.1</td>\n",
       "      <td>45.3</td>\n",
       "      <td>732.2</td>\n",
       "      <td>38.8</td>\n",
       "      <td>-2563.8</td>\n",
       "      <td>1.00</td>\n",
       "    </tr>\n",
       "    <tr>\n",
       "      <th>12</th>\n",
       "      <td>4P2A-La</td>\n",
       "      <td>-3370.2</td>\n",
       "      <td>33.4</td>\n",
       "      <td>730.2</td>\n",
       "      <td>34.4</td>\n",
       "      <td>-2572.2</td>\n",
       "      <td>1.00</td>\n",
       "    </tr>\n",
       "    <tr>\n",
       "      <th>13</th>\n",
       "      <td>4P2A-Nd</td>\n",
       "      <td>-3837.7</td>\n",
       "      <td>31.4</td>\n",
       "      <td>755.6</td>\n",
       "      <td>33.8</td>\n",
       "      <td>-3016.9</td>\n",
       "      <td>0.44</td>\n",
       "    </tr>\n",
       "  </tbody>\n",
       "</table>\n",
       "</div>"
      ],
      "text/plain": [
       "     System  Elec-SR  VdW-SR  Elec-LR  VdW-LR   sum_E   Expt_Kd\n",
       "0     WT-Ca  -1950.9   -25.9    732.3    15.6 -1228.9  71000.00\n",
       "1   4P2A-Ca  -2213.2   -24.1    756.8    15.9 -1464.6  26000.00\n",
       "2    D9M-Nd  -3807.2    42.4    721.5    37.2 -3006.1   2150.00\n",
       "3    D9H-Nd  -3842.6    43.4    754.4    39.7 -3005.1   1460.00\n",
       "4    D9A-Nd  -3798.1    44.4    723.2    37.2 -2993.3    397.00\n",
       "5    D9N-Nd  -3839.3    44.8    655.2    38.4 -3100.9     53.10\n",
       "6     WT-Sm  -3361.2    44.4    732.4    38.6 -2545.8      6.60\n",
       "7     WT-La  -3270.2    30.4    728.7    34.3 -2476.8      5.30\n",
       "8     WT-Nd  -3339.8    38.9    730.1    36.7 -2534.1      5.30\n",
       "9     WT-Tb  -3417.0    50.1    734.5    40.9 -2591.5      2.10\n",
       "10     WT-Y  -3435.7    52.5    733.7    40.7 -2608.8      1.70\n",
       "11    WT-Gd  -3380.1    45.3    732.2    38.8 -2563.8      1.00\n",
       "12  4P2A-La  -3370.2    33.4    730.2    34.4 -2572.2      1.00\n",
       "13  4P2A-Nd  -3837.7    31.4    755.6    33.8 -3016.9      0.44"
      ]
     },
     "execution_count": 14,
     "metadata": {},
     "output_type": "execute_result"
    }
   ],
   "source": [
    "data"
   ]
  },
  {
   "cell_type": "code",
   "execution_count": null,
   "metadata": {},
   "outputs": [],
   "source": [
    "# weights = np.array(weights_nd_pearson)[-1][:-1]\n",
    "# weights"
   ]
  },
  {
   "cell_type": "code",
   "execution_count": null,
   "metadata": {},
   "outputs": [],
   "source": [
    "data"
   ]
  },
  {
   "cell_type": "code",
   "execution_count": 28,
   "metadata": {},
   "outputs": [],
   "source": [
    "system = {}\n",
    "energies = {}\n",
    "kd = {}\n",
    "\n",
    "\n",
    "\n",
    "for i in np.array(data):\n",
    "\n",
    "    a = {}\n",
    "    energies = i[1:-2]\n",
    "    a['energy'] = energies\n",
    "    a['kd'] = i[-2]\n",
    "    a['sum'] = sum(energies)\n",
    "    weighted_energy = np.multiply(np.array(energies),np.array(weights))\n",
    "    a['weighted_energy'] = weighted_energy\n",
    "    sum_weighted_energy = np.sum(np.multiply(np.array(energies),np.array(weights)))\n",
    "    a['weighted_sum'] = sum_weighted_energy\n",
    "    a['frac_contribution'] = weighted_energy/sum_weighted_energy\n",
    "\n",
    "    system[i[0]] = a\n"
   ]
  },
  {
   "cell_type": "code",
   "execution_count": 29,
   "metadata": {},
   "outputs": [
    {
     "data": {
      "text/plain": [
       "dict_keys(['WT-Ca', '4P2A-Ca', 'D9M-Nd', 'D9H-Nd', 'D9A-Nd', 'D9N-Nd', 'WT-Sm', 'WT-La', 'WT-Nd', 'WT-Tb', 'WT-Y', 'WT-Gd', '4P2A-La', '4P2A-Nd'])"
      ]
     },
     "execution_count": 29,
     "metadata": {},
     "output_type": "execute_result"
    }
   ],
   "source": [
    "system.keys()"
   ]
  },
  {
   "cell_type": "code",
   "execution_count": 30,
   "metadata": {},
   "outputs": [],
   "source": [
    "kd_list = indexify(data['Expt_Kd'])\n",
    "sum_E = indexify([system[i]['sum'] for i in system.keys()])\n",
    "sum_wE = indexify([system[i]['weighted_sum'] for i in system.keys()])\n",
    "indx = list(system.keys())\n",
    "\n",
    "rank_weighted = {}\n",
    "rank_weighted['index'] = indx\n",
    "rank_weighted['kd_list'] = kd_list \n",
    "rank_weighted['sum_E'] = sum_E\n",
    "rank_weighted['sum_wE'] = sum_wE\n",
    "\n",
    "\n",
    "\n",
    "rank_weighted = pd.DataFrame(rank_weighted).sort_values(by = 'kd_list')"
   ]
  },
  {
   "cell_type": "code",
   "execution_count": 32,
   "metadata": {},
   "outputs": [
    {
     "data": {
      "text/html": [
       "<div>\n",
       "<style scoped>\n",
       "    .dataframe tbody tr th:only-of-type {\n",
       "        vertical-align: middle;\n",
       "    }\n",
       "\n",
       "    .dataframe tbody tr th {\n",
       "        vertical-align: top;\n",
       "    }\n",
       "\n",
       "    .dataframe thead th {\n",
       "        text-align: right;\n",
       "    }\n",
       "</style>\n",
       "<table border=\"1\" class=\"dataframe\">\n",
       "  <thead>\n",
       "    <tr style=\"text-align: right;\">\n",
       "      <th></th>\n",
       "      <th>index</th>\n",
       "      <th>kd_list</th>\n",
       "      <th>sum_E</th>\n",
       "      <th>sum_wE</th>\n",
       "    </tr>\n",
       "  </thead>\n",
       "  <tbody>\n",
       "    <tr>\n",
       "      <th>0</th>\n",
       "      <td>WT-Ca</td>\n",
       "      <td>1</td>\n",
       "      <td>1</td>\n",
       "      <td>1</td>\n",
       "    </tr>\n",
       "    <tr>\n",
       "      <th>1</th>\n",
       "      <td>4P2A-Ca</td>\n",
       "      <td>2</td>\n",
       "      <td>2</td>\n",
       "      <td>2</td>\n",
       "    </tr>\n",
       "    <tr>\n",
       "      <th>2</th>\n",
       "      <td>D9M-Nd</td>\n",
       "      <td>3</td>\n",
       "      <td>12</td>\n",
       "      <td>12</td>\n",
       "    </tr>\n",
       "    <tr>\n",
       "      <th>3</th>\n",
       "      <td>D9H-Nd</td>\n",
       "      <td>4</td>\n",
       "      <td>11</td>\n",
       "      <td>10</td>\n",
       "    </tr>\n",
       "    <tr>\n",
       "      <th>4</th>\n",
       "      <td>D9A-Nd</td>\n",
       "      <td>5</td>\n",
       "      <td>10</td>\n",
       "      <td>11</td>\n",
       "    </tr>\n",
       "    <tr>\n",
       "      <th>5</th>\n",
       "      <td>D9N-Nd</td>\n",
       "      <td>6</td>\n",
       "      <td>14</td>\n",
       "      <td>13</td>\n",
       "    </tr>\n",
       "    <tr>\n",
       "      <th>6</th>\n",
       "      <td>WT-Sm</td>\n",
       "      <td>7</td>\n",
       "      <td>5</td>\n",
       "      <td>4</td>\n",
       "    </tr>\n",
       "    <tr>\n",
       "      <th>7</th>\n",
       "      <td>WT-La</td>\n",
       "      <td>8</td>\n",
       "      <td>3</td>\n",
       "      <td>3</td>\n",
       "    </tr>\n",
       "    <tr>\n",
       "      <th>8</th>\n",
       "      <td>WT-Nd</td>\n",
       "      <td>8</td>\n",
       "      <td>4</td>\n",
       "      <td>5</td>\n",
       "    </tr>\n",
       "    <tr>\n",
       "      <th>9</th>\n",
       "      <td>WT-Tb</td>\n",
       "      <td>10</td>\n",
       "      <td>8</td>\n",
       "      <td>6</td>\n",
       "    </tr>\n",
       "    <tr>\n",
       "      <th>10</th>\n",
       "      <td>WT-Y</td>\n",
       "      <td>11</td>\n",
       "      <td>9</td>\n",
       "      <td>8</td>\n",
       "    </tr>\n",
       "    <tr>\n",
       "      <th>11</th>\n",
       "      <td>WT-Gd</td>\n",
       "      <td>12</td>\n",
       "      <td>6</td>\n",
       "      <td>7</td>\n",
       "    </tr>\n",
       "    <tr>\n",
       "      <th>12</th>\n",
       "      <td>4P2A-La</td>\n",
       "      <td>12</td>\n",
       "      <td>7</td>\n",
       "      <td>9</td>\n",
       "    </tr>\n",
       "    <tr>\n",
       "      <th>13</th>\n",
       "      <td>4P2A-Nd</td>\n",
       "      <td>14</td>\n",
       "      <td>13</td>\n",
       "      <td>14</td>\n",
       "    </tr>\n",
       "  </tbody>\n",
       "</table>\n",
       "</div>"
      ],
      "text/plain": [
       "      index  kd_list  sum_E  sum_wE\n",
       "0     WT-Ca        1      1       1\n",
       "1   4P2A-Ca        2      2       2\n",
       "2    D9M-Nd        3     12      12\n",
       "3    D9H-Nd        4     11      10\n",
       "4    D9A-Nd        5     10      11\n",
       "5    D9N-Nd        6     14      13\n",
       "6     WT-Sm        7      5       4\n",
       "7     WT-La        8      3       3\n",
       "8     WT-Nd        8      4       5\n",
       "9     WT-Tb       10      8       6\n",
       "10     WT-Y       11      9       8\n",
       "11    WT-Gd       12      6       7\n",
       "12  4P2A-La       12      7       9\n",
       "13  4P2A-Nd       14     13      14"
      ]
     },
     "execution_count": 32,
     "metadata": {},
     "output_type": "execute_result"
    }
   ],
   "source": [
    "rank_weighted"
   ]
  },
  {
   "cell_type": "code",
   "execution_count": 33,
   "metadata": {},
   "outputs": [
    {
     "name": "stdout",
     "output_type": "stream",
     "text": [
      "[1, 2, 3, 4, 5, 6, 7, 8, 8, 10, 11, 12, 12, 14]\n",
      "[1, 2, 12, 10, 11, 13, 4, 3, 5, 6, 8, 7, 9, 14]\n",
      "0.31409321584472233\n",
      "----------------------\n",
      "[1, 2, 3, 4, 5, 6, 7, 8, 8, 10, 11, 12, 12, 14]\n",
      "[1, 2, 12, 11, 10, 14, 5, 3, 4, 8, 9, 6, 7, 13]\n",
      "0.24630331314442253\n"
     ]
    }
   ],
   "source": [
    "print(kd_rank)\n",
    "\n",
    "print(sum_wE)\n",
    "print(np.corrcoef(kd_list,sum_wE)[1][0])\n",
    "\n",
    "print('----------------------')\n",
    "\n",
    "\n",
    "print(kd_list)\n",
    "print(sum_E)\n",
    "print(np.corrcoef(kd_list,sum_E)[1][0])"
   ]
  },
  {
   "cell_type": "code",
   "execution_count": 34,
   "metadata": {},
   "outputs": [
    {
     "data": {
      "text/plain": [
       "<matplotlib.legend.Legend at 0x1e3f0915100>"
      ]
     },
     "execution_count": 34,
     "metadata": {},
     "output_type": "execute_result"
    },
    {
     "data": {
      "image/png": "[encoded data removed]",
      "text/plain": [
       "<Figure size 432x288 with 1 Axes>"
      ]
     },
     "metadata": {
      "needs_background": "light"
     },
     "output_type": "display_data"
    }
   ],
   "source": [
    "import matplotlib.pyplot as plt\n",
    "\n",
    "x = [i+1 for i in range(len(rank_weighted['kd_list']))]\n",
    "\n",
    "plt.plot(x,rank_weighted['kd_list'], marker = 'o')\n",
    "plt.plot(x,rank_weighted['sum_E'],color = 'r', marker = 'o')\n",
    "plt.plot(x,rank_weighted['sum_wE'],color = 'k', marker = 'o')\n",
    "plt.xticks(x,list(system.keys()),rotation = 90)\n",
    "\n",
    "plt.legend(['experimental kd','simulation kd', 'optimized weighted kd'])\n"
   ]
  },
  {
   "cell_type": "code",
   "execution_count": 35,
   "metadata": {},
   "outputs": [
    {
     "data": {
      "text/plain": [
       "<matplotlib.collections.PathCollection at 0x1e3c78cdd30>"
      ]
     },
     "execution_count": 35,
     "metadata": {},
     "output_type": "execute_result"
    },
    {
     "data": {
      "image/png": "[encoded data removed]",
      "text/plain": [
       "<Figure size 432x288 with 1 Axes>"
      ]
     },
     "metadata": {
      "needs_background": "light"
     },
     "output_type": "display_data"
    }
   ],
   "source": [
    "y = main_data['w2'][0::10000]\n",
    "x = np.arange(len(y))\n",
    "plt.scatter(x,y)"
   ]
  },
  {
   "cell_type": "code",
   "execution_count": 36,
   "metadata": {},
   "outputs": [
    {
     "data": {
      "text/html": [
       "<div>\n",
       "<style scoped>\n",
       "    .dataframe tbody tr th:only-of-type {\n",
       "        vertical-align: middle;\n",
       "    }\n",
       "\n",
       "    .dataframe tbody tr th {\n",
       "        vertical-align: top;\n",
       "    }\n",
       "\n",
       "    .dataframe thead th {\n",
       "        text-align: right;\n",
       "    }\n",
       "</style>\n",
       "<table border=\"1\" class=\"dataframe\">\n",
       "  <thead>\n",
       "    <tr style=\"text-align: right;\">\n",
       "      <th></th>\n",
       "      <th>w1</th>\n",
       "      <th>w2</th>\n",
       "      <th>w3</th>\n",
       "      <th>w4</th>\n",
       "      <th>sum</th>\n",
       "    </tr>\n",
       "  </thead>\n",
       "  <tbody>\n",
       "    <tr>\n",
       "      <th>1352239</th>\n",
       "      <td>54.526316</td>\n",
       "      <td>0.263232</td>\n",
       "      <td>0.263232</td>\n",
       "      <td>1000.0</td>\n",
       "      <td>0.314093</td>\n",
       "    </tr>\n",
       "    <tr>\n",
       "      <th>1352519</th>\n",
       "      <td>54.526316</td>\n",
       "      <td>0.263232</td>\n",
       "      <td>0.631616</td>\n",
       "      <td>1000.0</td>\n",
       "      <td>0.314093</td>\n",
       "    </tr>\n",
       "    <tr>\n",
       "      <th>1359039</th>\n",
       "      <td>54.526316</td>\n",
       "      <td>0.473737</td>\n",
       "      <td>0.789495</td>\n",
       "      <td>1000.0</td>\n",
       "      <td>0.314093</td>\n",
       "    </tr>\n",
       "    <tr>\n",
       "      <th>1360399</th>\n",
       "      <td>54.526316</td>\n",
       "      <td>0.526363</td>\n",
       "      <td>0.473737</td>\n",
       "      <td>1000.0</td>\n",
       "      <td>0.314093</td>\n",
       "    </tr>\n",
       "    <tr>\n",
       "      <th>1368119</th>\n",
       "      <td>54.526316</td>\n",
       "      <td>0.789495</td>\n",
       "      <td>0.105353</td>\n",
       "      <td>1000.0</td>\n",
       "      <td>0.314093</td>\n",
       "    </tr>\n",
       "    <tr>\n",
       "      <th>...</th>\n",
       "      <td>...</td>\n",
       "      <td>...</td>\n",
       "      <td>...</td>\n",
       "      <td>...</td>\n",
       "      <td>...</td>\n",
       "    </tr>\n",
       "    <tr>\n",
       "      <th>1348999</th>\n",
       "      <td>54.526316</td>\n",
       "      <td>0.157979</td>\n",
       "      <td>0.210605</td>\n",
       "      <td>1000.0</td>\n",
       "      <td>0.314093</td>\n",
       "    </tr>\n",
       "    <tr>\n",
       "      <th>1344559</th>\n",
       "      <td>54.526316</td>\n",
       "      <td>0.000100</td>\n",
       "      <td>0.684242</td>\n",
       "      <td>1000.0</td>\n",
       "      <td>0.314093</td>\n",
       "    </tr>\n",
       "    <tr>\n",
       "      <th>1348959</th>\n",
       "      <td>54.526316</td>\n",
       "      <td>0.157979</td>\n",
       "      <td>0.157979</td>\n",
       "      <td>1000.0</td>\n",
       "      <td>0.314093</td>\n",
       "    </tr>\n",
       "    <tr>\n",
       "      <th>1353919</th>\n",
       "      <td>54.526316</td>\n",
       "      <td>0.315858</td>\n",
       "      <td>0.368484</td>\n",
       "      <td>1000.0</td>\n",
       "      <td>0.314093</td>\n",
       "    </tr>\n",
       "    <tr>\n",
       "      <th>1350999</th>\n",
       "      <td>54.526316</td>\n",
       "      <td>0.210605</td>\n",
       "      <td>0.736868</td>\n",
       "      <td>1000.0</td>\n",
       "      <td>0.314093</td>\n",
       "    </tr>\n",
       "  </tbody>\n",
       "</table>\n",
       "<p>258 rows × 5 columns</p>\n",
       "</div>"
      ],
      "text/plain": [
       "                w1        w2        w3      w4       sum\n",
       "1352239  54.526316  0.263232  0.263232  1000.0  0.314093\n",
       "1352519  54.526316  0.263232  0.631616  1000.0  0.314093\n",
       "1359039  54.526316  0.473737  0.789495  1000.0  0.314093\n",
       "1360399  54.526316  0.526363  0.473737  1000.0  0.314093\n",
       "1368119  54.526316  0.789495  0.105353  1000.0  0.314093\n",
       "...            ...       ...       ...     ...       ...\n",
       "1348999  54.526316  0.157979  0.210605  1000.0  0.314093\n",
       "1344559  54.526316  0.000100  0.684242  1000.0  0.314093\n",
       "1348959  54.526316  0.157979  0.157979  1000.0  0.314093\n",
       "1353919  54.526316  0.315858  0.368484  1000.0  0.314093\n",
       "1350999  54.526316  0.210605  0.736868  1000.0  0.314093\n",
       "\n",
       "[258 rows x 5 columns]"
      ]
     },
     "execution_count": 36,
     "metadata": {},
     "output_type": "execute_result"
    }
   ],
   "source": [
    "top_cands = main_data[main_data['sum'] > 0.31]#[main_data['w1'] > 1]\n",
    "top_cands"
   ]
  },
  {
   "cell_type": "code",
   "execution_count": 37,
   "metadata": {},
   "outputs": [
    {
     "data": {
      "text/plain": [
       "<matplotlib.legend.Legend at 0x1e3bda2c250>"
      ]
     },
     "execution_count": 37,
     "metadata": {},
     "output_type": "execute_result"
    },
    {
     "data": {
      "image/png": "[encoded data removed]",
      "text/plain": [
       "<Figure size 432x288 with 1 Axes>"
      ]
     },
     "metadata": {
      "needs_background": "light"
     },
     "output_type": "display_data"
    }
   ],
   "source": [
    "data_4 = np.array(data[[\"Elec-SR\",\"VdW-SR\",\"Elec-LR\",\"VdW-LR\"]])\n",
    "\n",
    "frac_es = [system[i]['frac_contribution'][0] for i in system.keys()]\n",
    "frac_vs = [system[i]['frac_contribution'][1] for i in system.keys()]\n",
    "frac_el = [system[i]['frac_contribution'][2] for i in system.keys()]\n",
    "frac_vl = [system[i]['frac_contribution'][3] for i in system.keys()]\n",
    "x_frac = [i+1 for i in range(len(frac_es))]\n",
    "\n",
    "\n",
    "plt.scatter(x_frac,frac_es)\n",
    "plt.scatter(x_frac,frac_vs)\n",
    "plt.scatter(x_frac,frac_el)\n",
    "plt.scatter(x_frac,frac_vl)\n",
    "# plt.xticks(x,list(data['System']),rotation = 90)\n",
    "plt.legend([\"Elec-SR\",\"VdW-SR\",\"Elec-LR\",\"VdW-LR\"])"
   ]
  },
  {
   "cell_type": "code",
   "execution_count": 38,
   "metadata": {},
   "outputs": [
    {
     "name": "stderr",
     "output_type": "stream",
     "text": [
      "c:\\Users\\15156\\anaconda3\\lib\\site-packages\\seaborn\\distributions.py:2619: FutureWarning: `distplot` is a deprecated function and will be removed in a future version. Please adapt your code to use either `displot` (a figure-level function with similar flexibility) or `histplot` (an axes-level function for histograms).\n",
      "  warnings.warn(msg, FutureWarning)\n",
      "c:\\Users\\15156\\anaconda3\\lib\\site-packages\\seaborn\\distributions.py:2619: FutureWarning: `distplot` is a deprecated function and will be removed in a future version. Please adapt your code to use either `displot` (a figure-level function with similar flexibility) or `histplot` (an axes-level function for histograms).\n",
      "  warnings.warn(msg, FutureWarning)\n",
      "c:\\Users\\15156\\anaconda3\\lib\\site-packages\\numpy\\lib\\histograms.py:906: RuntimeWarning: invalid value encountered in true_divide\n",
      "  return n/db/n.sum(), bin_edges\n",
      "c:\\Users\\15156\\anaconda3\\lib\\site-packages\\seaborn\\distributions.py:2619: FutureWarning: `distplot` is a deprecated function and will be removed in a future version. Please adapt your code to use either `displot` (a figure-level function with similar flexibility) or `histplot` (an axes-level function for histograms).\n",
      "  warnings.warn(msg, FutureWarning)\n",
      "c:\\Users\\15156\\anaconda3\\lib\\site-packages\\numpy\\lib\\histograms.py:906: RuntimeWarning: invalid value encountered in true_divide\n",
      "  return n/db/n.sum(), bin_edges\n",
      "c:\\Users\\15156\\anaconda3\\lib\\site-packages\\seaborn\\distributions.py:2619: FutureWarning: `distplot` is a deprecated function and will be removed in a future version. Please adapt your code to use either `displot` (a figure-level function with similar flexibility) or `histplot` (an axes-level function for histograms).\n",
      "  warnings.warn(msg, FutureWarning)\n",
      "c:\\Users\\15156\\anaconda3\\lib\\site-packages\\seaborn\\distributions.py:316: UserWarning: Dataset has 0 variance; skipping density estimate. Pass `warn_singular=False` to disable this warning.\n",
      "  warnings.warn(msg, UserWarning)\n"
     ]
    },
    {
     "data": {
      "text/plain": [
       "<matplotlib.legend.Legend at 0x1e3aca65940>"
      ]
     },
     "execution_count": 38,
     "metadata": {},
     "output_type": "execute_result"
    },
    {
     "data": {
      "image/png": "[encoded data removed]",
      "text/plain": [
       "<Figure size 432x288 with 1 Axes>"
      ]
     },
     "metadata": {
      "needs_background": "light"
     },
     "output_type": "display_data"
    }
   ],
   "source": [
    "import seaborn as sns\n",
    "\n",
    "y1 = top_cands['w2'][top_cands['w1'] > 1][top_cands['w4'] > 30]\n",
    "y2 = top_cands['w2'][top_cands['w1'] <= 1][top_cands['w4'] > 30]\n",
    "y3 = top_cands['w2'][top_cands['w1'] > 1][top_cands['w4'] < 30]\n",
    "y4 = top_cands['w2'][top_cands['w1'] <= 1][top_cands['w4'] < 30]\n",
    "\n",
    "\n",
    "x1 = np.arange(len(y1))\n",
    "x2 = np.arange(len(y2))\n",
    "x3 = np.arange(len(y3))\n",
    "x4 = np.arange(len(y4))\n",
    "\n",
    "\n",
    "# plt.ylim([0,2])\n",
    "# plt.xlim([0,145])\n",
    "\n",
    "\n",
    "# plt.scatter(x1,y1,color = 'b')\n",
    "# plt.scatter(x2,y2,color='r')\n",
    "# plt.scatter(x3,y3,color ='g')\n",
    "# plt.scatter(x4,y4, color = 'k')\n",
    "sns.distplot(y1,color = 'b')\n",
    "sns.distplot(y2,color='r')\n",
    "sns.distplot(y3,color ='g')\n",
    "sns.distplot(y4, color = 'k')\n",
    "\n",
    "\n",
    "plt.title('weight term (w2) with vander walls short range')\n",
    "plt.xlabel('values of w2 with either (w1>1 & w4>30) or (w1<1 & w4<30) ')\n",
    "plt.legend(['w1 > 1 & w4 > 30','w1 < 1 & w4 < 30'])"
   ]
  },
  {
   "cell_type": "code",
   "execution_count": 39,
   "metadata": {},
   "outputs": [
    {
     "data": {
      "text/plain": [
       "1352239    0.263232\n",
       "1352519    0.263232\n",
       "1359039    0.473737\n",
       "1360399    0.526363\n",
       "1368119    0.789495\n",
       "             ...   \n",
       "1348999    0.157979\n",
       "1344559    0.000100\n",
       "1348959    0.157979\n",
       "1353919    0.315858\n",
       "1350999    0.210605\n",
       "Name: w2, Length: 257, dtype: float64"
      ]
     },
     "execution_count": 39,
     "metadata": {},
     "output_type": "execute_result"
    }
   ],
   "source": [
    "y1"
   ]
  },
  {
   "cell_type": "code",
   "execution_count": 69,
   "metadata": {},
   "outputs": [
    {
     "data": {
      "text/plain": [
       "Text(0.5, 1.0, 'weight term with electrostatic long range')"
      ]
     },
     "execution_count": 69,
     "metadata": {},
     "output_type": "execute_result"
    },
    {
     "data": {
      "image/png": "[encoded data removed]",
      "text/plain": [
       "<Figure size 432x288 with 1 Axes>"
      ]
     },
     "metadata": {
      "needs_background": "light"
     },
     "output_type": "display_data"
    }
   ],
   "source": [
    "y = top_cands['w4']\n",
    "x = np.arange(len(y))\n",
    "\n",
    "plt.scatter(x,y)\n",
    "plt.title('weight term with electrostatic long range')"
   ]
  }
 ],
 "metadata": {
  "kernelspec": {
   "display_name": "base",
   "language": "python",
   "name": "python3"
  },
  "language_info": {
   "codemirror_mode": {
    "name": "ipython",
    "version": 3
   },
   "file_extension": ".py",
   "mimetype": "text/x-python",
   "name": "python",
   "nbconvert_exporter": "python",
   "pygments_lexer": "ipython3",
   "version": "3.9.12"
  },
  "orig_nbformat": 4
 },
 "nbformat": 4,
 "nbformat_minor": 2
}
