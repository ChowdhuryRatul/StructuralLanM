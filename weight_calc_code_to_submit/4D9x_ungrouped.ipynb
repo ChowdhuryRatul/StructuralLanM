{
 "cells": [
  {
   "cell_type": "code",
   "execution_count": 1,
   "metadata": {},
   "outputs": [],
   "source": [
    "import pandas as pd \n",
    "import numpy as np\n",
    "\n",
    "\n",
    "#load data\n",
    "\n",
    "#please change the name of the data file and run all the cells \n",
    "\n",
    "data = pd.read_csv('./D9x.csv',  index_col=None)\n",
    "\n",
    "\n",
    "\n",
    "\n",
    "def indexify(x):\n",
    "\n",
    "    seq = sorted(x, reverse = True)\n",
    "    index = [seq.index(v)+1 for v in x]\n",
    "    return index\n"
   ]
  },
  {
   "cell_type": "code",
   "execution_count": 2,
   "metadata": {},
   "outputs": [
    {
     "data": {
      "text/plain": [
       "<matplotlib.legend.Legend at 0x1a2f619aeb0>"
      ]
     },
     "execution_count": 2,
     "metadata": {},
     "output_type": "execute_result"
    },
    {
     "data": {
      "image/png": "[encoded data removed]",
      "text/plain": [
       "<Figure size 432x288 with 1 Axes>"
      ]
     },
     "metadata": {
      "needs_background": "light"
     },
     "output_type": "display_data"
    }
   ],
   "source": [
    "import matplotlib.pyplot as plt \n",
    "\n",
    "y1 = indexify(data['Expt_Kd'])\n",
    "y2 = indexify(data['sum_E'])\n",
    "\n",
    "x = [i+1 for i in range(len(y1))]\n",
    "\n",
    "\n",
    "plt.plot(x,y1)\n",
    "plt.plot(x,y2)\n",
    "plt.ylabel('Ranks of experiments')\n",
    "plt.xlabel(' Experiment names ')\n",
    "plt.xticks(x,list(data['System']),rotation = 90)\n",
    "plt.legend(['Expt_Kd','sum_E'])"
   ]
  },
  {
   "cell_type": "code",
   "execution_count": 3,
   "metadata": {},
   "outputs": [
    {
     "name": "stdout",
     "output_type": "stream",
     "text": [
      "[1, 3, 2, 4, 5, 6]\n"
     ]
    }
   ],
   "source": [
    "kd_rank = indexify(list(data['Expt_Kd']))\n",
    "print(kd_rank)"
   ]
  },
  {
   "cell_type": "code",
   "execution_count": 4,
   "metadata": {},
   "outputs": [
    {
     "data": {
      "text/plain": [
       "array([[-1950.9,   -25.9,   732.3,    15.6],\n",
       "       [-3807.2,    42.4,   721.5,    37.2],\n",
       "       [-3842.6,    43.4,   754.4,    39.7],\n",
       "       [-3798.1,    44.4,   723.2,    37.2],\n",
       "       [-3839.3,    44.8,   655.2,    38.4],\n",
       "       [-3339.8,    38.9,   730.1,    36.7]])"
      ]
     },
     "execution_count": 4,
     "metadata": {},
     "output_type": "execute_result"
    }
   ],
   "source": [
    "weights = np.array([1,1,1,1])\n",
    "data_4 = np.array(data[[\"Elec-SR\",\"VdW-SR\",\"Elec-LR\",\"VdW-LR\"]])\n",
    "data_4"
   ]
  },
  {
   "cell_type": "code",
   "execution_count": 5,
   "metadata": {},
   "outputs": [
    {
     "name": "stdout",
     "output_type": "stream",
     "text": [
      "[1, 5, 4, 3, 6, 2]\n"
     ]
    }
   ],
   "source": [
    "list_ = indexify(data['sum_E'])\n",
    "\n",
    "print(list_)"
   ]
  },
  {
   "cell_type": "code",
   "execution_count": 6,
   "metadata": {},
   "outputs": [],
   "source": [
    "def sum_calc_easy(weights, kd_rank, data_4):\n",
    "    list_ = []\n",
    "    for i in range(data_4.shape[0]):\n",
    "        list_.append(np.sum(data_4[i]*weights))\n",
    "\n",
    "    list_ = indexify(np.array(list_))\n",
    "\n",
    "\n",
    "\n",
    "    return np.corrcoef(np.array(list_),np.array(kd_rank))[1][0]"
   ]
  },
  {
   "cell_type": "code",
   "execution_count": 7,
   "metadata": {},
   "outputs": [
    {
     "data": {
      "text/plain": [
       "array([ 0. ,  0.1,  0.2,  0.3,  0.4,  0.5,  0.6,  0.7,  0.8,  0.9,  1. ,\n",
       "        2. ,  3. ,  4. ,  5. ,  6. ,  7. ,  8. ,  9. , 10. ])"
      ]
     },
     "execution_count": 7,
     "metadata": {},
     "output_type": "execute_result"
    }
   ],
   "source": [
    "frac = np.linspace(0,1,11)\n",
    "mult = np.linspace(2,10,9)\n",
    "frac_mult = np.concatenate((frac,mult), axis = 0)\n",
    "frac_mult"
   ]
  },
  {
   "cell_type": "code",
   "execution_count": 8,
   "metadata": {},
   "outputs": [
    {
     "name": "stderr",
     "output_type": "stream",
     "text": [
      "c:\\Users\\15156\\anaconda3\\lib\\site-packages\\numpy\\lib\\function_base.py:2691: RuntimeWarning: invalid value encountered in true_divide\n",
      "  c /= stddev[:, None]\n",
      "c:\\Users\\15156\\anaconda3\\lib\\site-packages\\numpy\\lib\\function_base.py:2692: RuntimeWarning: invalid value encountered in true_divide\n",
      "  c /= stddev[None, :]\n"
     ]
    },
    {
     "name": "stdout",
     "output_type": "stream",
     "text": [
      "done:  100000\n"
     ]
    }
   ],
   "source": [
    "dict_ = {}\n",
    "counter = 0\n",
    "for i in frac_mult:\n",
    "    for j in frac_mult:\n",
    "        for k in frac_mult:\n",
    "            for l in frac_mult:\n",
    "                inside_dict = {}\n",
    "                inside_dict['w1'] = i\n",
    "                inside_dict['w2'] = j\n",
    "                inside_dict['w3'] = k\n",
    "                inside_dict['w4'] = l \n",
    "                \n",
    "                sum_ = sum_calc_easy(np.array([i,j,k,l]), kd_rank, data_4)\n",
    "                inside_dict['sum'] = sum_\n",
    "                dict_[counter] = inside_dict\n",
    "                counter+=1\n",
    "                if counter % 100000 == 0:\n",
    "                    print('done: ', counter)\n"
   ]
  },
  {
   "cell_type": "code",
   "execution_count": 9,
   "metadata": {},
   "outputs": [],
   "source": [
    "# import pickle\n",
    "\n",
    "# with open('weights_n_pearson.pkl', 'wb') as fp:\n",
    "#     pickle.dump(dict_, fp)\n",
    "#     print('dictionary saved successfully to file')"
   ]
  },
  {
   "cell_type": "code",
   "execution_count": 10,
   "metadata": {},
   "outputs": [
    {
     "data": {
      "text/html": [
       "<div>\n",
       "<style scoped>\n",
       "    .dataframe tbody tr th:only-of-type {\n",
       "        vertical-align: middle;\n",
       "    }\n",
       "\n",
       "    .dataframe tbody tr th {\n",
       "        vertical-align: top;\n",
       "    }\n",
       "\n",
       "    .dataframe thead th {\n",
       "        text-align: right;\n",
       "    }\n",
       "</style>\n",
       "<table border=\"1\" class=\"dataframe\">\n",
       "  <thead>\n",
       "    <tr style=\"text-align: right;\">\n",
       "      <th></th>\n",
       "      <th>w1</th>\n",
       "      <th>w2</th>\n",
       "      <th>w3</th>\n",
       "      <th>w4</th>\n",
       "      <th>sum</th>\n",
       "    </tr>\n",
       "  </thead>\n",
       "  <tbody>\n",
       "    <tr>\n",
       "      <th>31206</th>\n",
       "      <td>0.3</td>\n",
       "      <td>9.0</td>\n",
       "      <td>0.0</td>\n",
       "      <td>0.6</td>\n",
       "      <td>-0.942857</td>\n",
       "    </tr>\n",
       "    <tr>\n",
       "      <th>14412</th>\n",
       "      <td>0.1</td>\n",
       "      <td>7.0</td>\n",
       "      <td>0.0</td>\n",
       "      <td>3.0</td>\n",
       "      <td>-0.942857</td>\n",
       "    </tr>\n",
       "    <tr>\n",
       "      <th>14411</th>\n",
       "      <td>0.1</td>\n",
       "      <td>7.0</td>\n",
       "      <td>0.0</td>\n",
       "      <td>2.0</td>\n",
       "      <td>-0.942857</td>\n",
       "    </tr>\n",
       "    <tr>\n",
       "      <th>13611</th>\n",
       "      <td>0.1</td>\n",
       "      <td>5.0</td>\n",
       "      <td>0.0</td>\n",
       "      <td>2.0</td>\n",
       "      <td>-0.942857</td>\n",
       "    </tr>\n",
       "    <tr>\n",
       "      <th>13612</th>\n",
       "      <td>0.1</td>\n",
       "      <td>5.0</td>\n",
       "      <td>0.0</td>\n",
       "      <td>3.0</td>\n",
       "      <td>-0.942857</td>\n",
       "    </tr>\n",
       "    <tr>\n",
       "      <th>...</th>\n",
       "      <td>...</td>\n",
       "      <td>...</td>\n",
       "      <td>...</td>\n",
       "      <td>...</td>\n",
       "      <td>...</td>\n",
       "    </tr>\n",
       "    <tr>\n",
       "      <th>28725</th>\n",
       "      <td>0.3</td>\n",
       "      <td>2.0</td>\n",
       "      <td>7.0</td>\n",
       "      <td>0.5</td>\n",
       "      <td>0.600000</td>\n",
       "    </tr>\n",
       "    <tr>\n",
       "      <th>28726</th>\n",
       "      <td>0.3</td>\n",
       "      <td>2.0</td>\n",
       "      <td>7.0</td>\n",
       "      <td>0.6</td>\n",
       "      <td>0.600000</td>\n",
       "    </tr>\n",
       "    <tr>\n",
       "      <th>28719</th>\n",
       "      <td>0.3</td>\n",
       "      <td>2.0</td>\n",
       "      <td>6.0</td>\n",
       "      <td>10.0</td>\n",
       "      <td>0.600000</td>\n",
       "    </tr>\n",
       "    <tr>\n",
       "      <th>24780</th>\n",
       "      <td>0.3</td>\n",
       "      <td>0.1</td>\n",
       "      <td>10.0</td>\n",
       "      <td>0.0</td>\n",
       "      <td>0.600000</td>\n",
       "    </tr>\n",
       "    <tr>\n",
       "      <th>0</th>\n",
       "      <td>0.0</td>\n",
       "      <td>0.0</td>\n",
       "      <td>0.0</td>\n",
       "      <td>0.0</td>\n",
       "      <td>NaN</td>\n",
       "    </tr>\n",
       "  </tbody>\n",
       "</table>\n",
       "<p>160000 rows × 5 columns</p>\n",
       "</div>"
      ],
      "text/plain": [
       "        w1   w2    w3    w4       sum\n",
       "31206  0.3  9.0   0.0   0.6 -0.942857\n",
       "14412  0.1  7.0   0.0   3.0 -0.942857\n",
       "14411  0.1  7.0   0.0   2.0 -0.942857\n",
       "13611  0.1  5.0   0.0   2.0 -0.942857\n",
       "13612  0.1  5.0   0.0   3.0 -0.942857\n",
       "...    ...  ...   ...   ...       ...\n",
       "28725  0.3  2.0   7.0   0.5  0.600000\n",
       "28726  0.3  2.0   7.0   0.6  0.600000\n",
       "28719  0.3  2.0   6.0  10.0  0.600000\n",
       "24780  0.3  0.1  10.0   0.0  0.600000\n",
       "0      0.0  0.0   0.0   0.0       NaN\n",
       "\n",
       "[160000 rows x 5 columns]"
      ]
     },
     "execution_count": 10,
     "metadata": {},
     "output_type": "execute_result"
    }
   ],
   "source": [
    "main_data = pd.DataFrame(dict_).transpose().sort_values(by = 'sum')\n",
    "main_data"
   ]
  },
  {
   "cell_type": "code",
   "execution_count": 11,
   "metadata": {},
   "outputs": [
    {
     "data": {
      "text/html": [
       "<div>\n",
       "<style scoped>\n",
       "    .dataframe tbody tr th:only-of-type {\n",
       "        vertical-align: middle;\n",
       "    }\n",
       "\n",
       "    .dataframe tbody tr th {\n",
       "        vertical-align: top;\n",
       "    }\n",
       "\n",
       "    .dataframe thead th {\n",
       "        text-align: right;\n",
       "    }\n",
       "</style>\n",
       "<table border=\"1\" class=\"dataframe\">\n",
       "  <thead>\n",
       "    <tr style=\"text-align: right;\">\n",
       "      <th></th>\n",
       "      <th>w1</th>\n",
       "      <th>w2</th>\n",
       "      <th>w3</th>\n",
       "      <th>w4</th>\n",
       "      <th>sum</th>\n",
       "    </tr>\n",
       "  </thead>\n",
       "  <tbody>\n",
       "    <tr>\n",
       "      <th>99471</th>\n",
       "      <td>3.0</td>\n",
       "      <td>0.8</td>\n",
       "      <td>4.0</td>\n",
       "      <td>2.0</td>\n",
       "      <td>0.257143</td>\n",
       "    </tr>\n",
       "    <tr>\n",
       "      <th>99470</th>\n",
       "      <td>3.0</td>\n",
       "      <td>0.8</td>\n",
       "      <td>4.0</td>\n",
       "      <td>1.0</td>\n",
       "      <td>0.257143</td>\n",
       "    </tr>\n",
       "    <tr>\n",
       "      <th>117499</th>\n",
       "      <td>5.0</td>\n",
       "      <td>4.0</td>\n",
       "      <td>5.0</td>\n",
       "      <td>10.0</td>\n",
       "      <td>0.257143</td>\n",
       "    </tr>\n",
       "    <tr>\n",
       "      <th>13163</th>\n",
       "      <td>0.1</td>\n",
       "      <td>3.0</td>\n",
       "      <td>9.0</td>\n",
       "      <td>0.3</td>\n",
       "      <td>0.257143</td>\n",
       "    </tr>\n",
       "    <tr>\n",
       "      <th>117497</th>\n",
       "      <td>5.0</td>\n",
       "      <td>4.0</td>\n",
       "      <td>5.0</td>\n",
       "      <td>8.0</td>\n",
       "      <td>0.257143</td>\n",
       "    </tr>\n",
       "    <tr>\n",
       "      <th>...</th>\n",
       "      <td>...</td>\n",
       "      <td>...</td>\n",
       "      <td>...</td>\n",
       "      <td>...</td>\n",
       "      <td>...</td>\n",
       "    </tr>\n",
       "    <tr>\n",
       "      <th>28724</th>\n",
       "      <td>0.3</td>\n",
       "      <td>2.0</td>\n",
       "      <td>7.0</td>\n",
       "      <td>0.4</td>\n",
       "      <td>0.600000</td>\n",
       "    </tr>\n",
       "    <tr>\n",
       "      <th>28725</th>\n",
       "      <td>0.3</td>\n",
       "      <td>2.0</td>\n",
       "      <td>7.0</td>\n",
       "      <td>0.5</td>\n",
       "      <td>0.600000</td>\n",
       "    </tr>\n",
       "    <tr>\n",
       "      <th>28726</th>\n",
       "      <td>0.3</td>\n",
       "      <td>2.0</td>\n",
       "      <td>7.0</td>\n",
       "      <td>0.6</td>\n",
       "      <td>0.600000</td>\n",
       "    </tr>\n",
       "    <tr>\n",
       "      <th>28719</th>\n",
       "      <td>0.3</td>\n",
       "      <td>2.0</td>\n",
       "      <td>6.0</td>\n",
       "      <td>10.0</td>\n",
       "      <td>0.600000</td>\n",
       "    </tr>\n",
       "    <tr>\n",
       "      <th>24780</th>\n",
       "      <td>0.3</td>\n",
       "      <td>0.1</td>\n",
       "      <td>10.0</td>\n",
       "      <td>0.0</td>\n",
       "      <td>0.600000</td>\n",
       "    </tr>\n",
       "  </tbody>\n",
       "</table>\n",
       "<p>71442 rows × 5 columns</p>\n",
       "</div>"
      ],
      "text/plain": [
       "         w1   w2    w3    w4       sum\n",
       "99471   3.0  0.8   4.0   2.0  0.257143\n",
       "99470   3.0  0.8   4.0   1.0  0.257143\n",
       "117499  5.0  4.0   5.0  10.0  0.257143\n",
       "13163   0.1  3.0   9.0   0.3  0.257143\n",
       "117497  5.0  4.0   5.0   8.0  0.257143\n",
       "...     ...  ...   ...   ...       ...\n",
       "28724   0.3  2.0   7.0   0.4  0.600000\n",
       "28725   0.3  2.0   7.0   0.5  0.600000\n",
       "28726   0.3  2.0   7.0   0.6  0.600000\n",
       "28719   0.3  2.0   6.0  10.0  0.600000\n",
       "24780   0.3  0.1  10.0   0.0  0.600000\n",
       "\n",
       "[71442 rows x 5 columns]"
      ]
     },
     "execution_count": 11,
     "metadata": {},
     "output_type": "execute_result"
    }
   ],
   "source": [
    "main_data = main_data[main_data['sum'] >= sum_calc_easy([1,1,1,1], kd_rank, data_4)]\n",
    "main_data"
   ]
  },
  {
   "cell_type": "code",
   "execution_count": 12,
   "metadata": {},
   "outputs": [
    {
     "data": {
      "text/plain": [
       "array([ 0.3,  0.1, 10. ,  0. ])"
      ]
     },
     "execution_count": 12,
     "metadata": {},
     "output_type": "execute_result"
    }
   ],
   "source": [
    "weights = main_data[main_data['sum']==max(list(main_data['sum']))]\n",
    "weights = np.array(weights)[-1][:-1]\n",
    "weights"
   ]
  },
  {
   "cell_type": "code",
   "execution_count": 13,
   "metadata": {},
   "outputs": [
    {
     "data": {
      "text/plain": [
       "0.6"
      ]
     },
     "execution_count": 13,
     "metadata": {},
     "output_type": "execute_result"
    }
   ],
   "source": [
    "max(list(main_data['sum']))"
   ]
  },
  {
   "cell_type": "code",
   "execution_count": 14,
   "metadata": {},
   "outputs": [],
   "source": [
    "system = {}\n",
    "energies = {}\n",
    "kd = {}\n",
    "\n",
    "\n",
    "\n",
    "for i in np.array(data):\n",
    "\n",
    "    a = {}\n",
    "    energies = i[1:-2]\n",
    "    a['energy'] = energies\n",
    "    a['kd'] = i[-1]\n",
    "    a['sum'] = sum(energies)\n",
    "    weighted_energy = np.multiply(np.array(energies),np.array(weights))\n",
    "    a['weighted_energy'] = weighted_energy\n",
    "    sum_weighted_energy = np.sum(np.multiply(np.array(energies),np.array(weights)))\n",
    "    a['weighted_sum'] = sum_weighted_energy\n",
    "    a['frac_contribution'] = weighted_energy/sum_weighted_energy\n",
    "\n",
    "    system[i[0]] = a\n"
   ]
  },
  {
   "cell_type": "code",
   "execution_count": 15,
   "metadata": {},
   "outputs": [],
   "source": [
    "kd_list = indexify(data['Expt_Kd'])\n",
    "sum_E = indexify([system[i]['sum'] for i in system.keys()])\n",
    "sum_wE = indexify([system[i]['weighted_sum'] for i in system.keys()])\n",
    "indx = list(system.keys())\n",
    "\n",
    "rank_weighted = {}\n",
    "rank_weighted['index'] = indx\n",
    "rank_weighted['kd_list'] = kd_list \n",
    "rank_weighted['sum_E'] = sum_E\n",
    "rank_weighted['sum_wE'] = sum_wE\n",
    "\n",
    "\n",
    "\n",
    "rank_weighted = pd.DataFrame(rank_weighted).sort_values(by = 'kd_list')"
   ]
  },
  {
   "cell_type": "code",
   "execution_count": 16,
   "metadata": {},
   "outputs": [
    {
     "data": {
      "text/html": [
       "<div>\n",
       "<style scoped>\n",
       "    .dataframe tbody tr th:only-of-type {\n",
       "        vertical-align: middle;\n",
       "    }\n",
       "\n",
       "    .dataframe tbody tr th {\n",
       "        vertical-align: top;\n",
       "    }\n",
       "\n",
       "    .dataframe thead th {\n",
       "        text-align: right;\n",
       "    }\n",
       "</style>\n",
       "<table border=\"1\" class=\"dataframe\">\n",
       "  <thead>\n",
       "    <tr style=\"text-align: right;\">\n",
       "      <th></th>\n",
       "      <th>index</th>\n",
       "      <th>kd_list</th>\n",
       "      <th>sum_E</th>\n",
       "      <th>sum_wE</th>\n",
       "    </tr>\n",
       "  </thead>\n",
       "  <tbody>\n",
       "    <tr>\n",
       "      <th>0</th>\n",
       "      <td>WT-Ca</td>\n",
       "      <td>1</td>\n",
       "      <td>1</td>\n",
       "      <td>1</td>\n",
       "    </tr>\n",
       "    <tr>\n",
       "      <th>2</th>\n",
       "      <td>D9H-Nd</td>\n",
       "      <td>2</td>\n",
       "      <td>4</td>\n",
       "      <td>2</td>\n",
       "    </tr>\n",
       "    <tr>\n",
       "      <th>1</th>\n",
       "      <td>D9M-Nd</td>\n",
       "      <td>3</td>\n",
       "      <td>5</td>\n",
       "      <td>5</td>\n",
       "    </tr>\n",
       "    <tr>\n",
       "      <th>3</th>\n",
       "      <td>D9A-Nd</td>\n",
       "      <td>4</td>\n",
       "      <td>3</td>\n",
       "      <td>4</td>\n",
       "    </tr>\n",
       "    <tr>\n",
       "      <th>4</th>\n",
       "      <td>D9N-Nd</td>\n",
       "      <td>5</td>\n",
       "      <td>6</td>\n",
       "      <td>6</td>\n",
       "    </tr>\n",
       "    <tr>\n",
       "      <th>5</th>\n",
       "      <td>WT-Nd</td>\n",
       "      <td>6</td>\n",
       "      <td>2</td>\n",
       "      <td>3</td>\n",
       "    </tr>\n",
       "  </tbody>\n",
       "</table>\n",
       "</div>"
      ],
      "text/plain": [
       "      index  kd_list  sum_E  sum_wE\n",
       "0  WT-Ca           1      1       1\n",
       "2    D9H-Nd        2      4       2\n",
       "1    D9M-Nd        3      5       5\n",
       "3    D9A-Nd        4      3       4\n",
       "4    D9N-Nd        5      6       6\n",
       "5     WT-Nd        6      2       3"
      ]
     },
     "execution_count": 16,
     "metadata": {},
     "output_type": "execute_result"
    }
   ],
   "source": [
    "rank_weighted"
   ]
  },
  {
   "cell_type": "code",
   "execution_count": 17,
   "metadata": {},
   "outputs": [
    {
     "name": "stdout",
     "output_type": "stream",
     "text": [
      "[1, 3, 2, 4, 5, 6]\n",
      "[1, 5, 2, 4, 6, 3]\n",
      "0.6\n",
      "----------------------\n",
      "[1, 3, 2, 4, 5, 6]\n",
      "[1, 5, 4, 3, 6, 2]\n",
      "0.2571428571428572\n"
     ]
    }
   ],
   "source": [
    "print(kd_rank)\n",
    "\n",
    "print(sum_wE)\n",
    "print(np.corrcoef(kd_list,sum_wE)[1][0])\n",
    "\n",
    "print('----------------------')\n",
    "\n",
    "\n",
    "print(kd_list)\n",
    "print(sum_E)\n",
    "print(np.corrcoef(kd_list,sum_E)[1][0])"
   ]
  },
  {
   "cell_type": "code",
   "execution_count": 18,
   "metadata": {},
   "outputs": [
    {
     "data": {
      "text/plain": [
       "Text(0.5, 0, '\\nexperiments\\n')"
      ]
     },
     "execution_count": 18,
     "metadata": {},
     "output_type": "execute_result"
    },
    {
     "data": {
      "image/png": "[encoded data removed]",
      "text/plain": [
       "<Figure size 432x288 with 1 Axes>"
      ]
     },
     "metadata": {
      "needs_background": "light"
     },
     "output_type": "display_data"
    }
   ],
   "source": [
    "import matplotlib.pyplot as plt\n",
    "\n",
    "x = [i+1 for i in range(len(rank_weighted['kd_list']))]\n",
    "\n",
    "plt.plot(x,rank_weighted['kd_list'], color = '#962ef9', marker = 'o')\n",
    "plt.plot(x,rank_weighted['sum_E'],color = '#2e91f9', marker = 'o')\n",
    "plt.plot(x,rank_weighted['sum_wE'],color = '#f92e91', marker = 'o')\n",
    "plt.xticks(x,list(system.keys()),rotation = 90)\n",
    "# plt.plot(x1,y1,color = '#91f92e', marker = 'o')\n",
    "# plt.plot(x2,y2,color='#962ef9', marker = 's')\n",
    "# plt.plot(x3,y3,color ='#2e91f9', marker = '>')\n",
    "# plt.plot(x4,y4, color = '#f92e91',marker = '*')\n",
    "plt.ylabel('ranks')\n",
    "plt.legend(['experimental kd','simulation sumE', 'optimized weighted w*sumE'])\n",
    "plt.xlabel('\\nexperiments\\n')\n"
   ]
  },
  {
   "cell_type": "code",
   "execution_count": 19,
   "metadata": {},
   "outputs": [],
   "source": [
    "def log_finder(array):\n",
    "    import math\n",
    "    out = []\n",
    "    for i in array:\n",
    "        if i == 0:\n",
    "            out.append(0)\n",
    "        else:\n",
    "            out.append(math.log10(i))\n",
    "\n",
    "    out[0] = 0\n",
    "\n",
    "    return out"
   ]
  },
  {
   "cell_type": "code",
   "execution_count": 21,
   "metadata": {},
   "outputs": [
    {
     "data": {
      "text/plain": [
       "Text(0, 0.5, 'log (10 base) weights (w)')"
      ]
     },
     "execution_count": 21,
     "metadata": {},
     "output_type": "execute_result"
    },
    {
     "data": {
      "image/png": "[encoded data removed]",
      "text/plain": [
       "<Figure size 600x400 with 1 Axes>"
      ]
     },
     "metadata": {
      "needs_background": "light"
     },
     "output_type": "display_data"
    }
   ],
   "source": [
    "import seaborn as sns\n",
    "import math\n",
    "\n",
    "sorted_dataframe = main_data[(main_data != 0).all(1)].drop_duplicates('sum',keep='first')\n",
    "\n",
    "plt.figure(dpi=100)\n",
    "\n",
    "y1 = log_finder(sorted_dataframe['w1'])\n",
    "y2 = log_finder(sorted_dataframe['w2'])\n",
    "y3 = log_finder(sorted_dataframe['w3'])\n",
    "y4 = log_finder(sorted_dataframe['w4'])\n",
    "\n",
    "\n",
    "x1 = np.arange(len(y1))\n",
    "x2 = np.arange(len(y2))\n",
    "x3 = np.arange(len(y3))\n",
    "x4 = np.arange(len(y4))\n",
    "\n",
    "\n",
    "# plt.ylim([-2,11])\n",
    "# plt.xlim([0,145])\n",
    "\n",
    "\n",
    "# plt.scatter(x1,y1,color = '#91f92e', marker = 'o')\n",
    "# plt.scatter(x2,y2,color='#962ef9', marker = 's')\n",
    "# plt.scatter(x3,y3,color ='#2e91f9', marker = '>')\n",
    "# plt.scatter(x4,y4, color = '#f92e91',marker = '*')\n",
    "plt.plot(x1,y1,color = '#888888', alpha = .7)\n",
    "plt.plot(x2,y2,color = '#888888', alpha = .7)\n",
    "plt.plot(x3,y3,color = '#888888', alpha = .7)\n",
    "plt.plot(x4,y4,color = '#888888', alpha = .7)\n",
    "plt.scatter(x1,y1, marker = 'p', s = 100, facecolors = 'w', edgecolors='k', lw = 1)\n",
    "plt.scatter(x2,y2, marker = 'P', s = 100, facecolors = 'w', edgecolors='k', lw = 1)\n",
    "plt.scatter(x3,y3, marker = '>', s = 100, facecolors = 'w', edgecolors='k', lw = 1)\n",
    "plt.scatter(x4,y4, marker = '*', s = 100, facecolors = 'w', edgecolors='k', lw = 1)\n",
    "\n",
    "\n",
    "plt.xticks([])\n",
    "\n",
    "plt.ylabel('log (10 base) weights (w)')\n",
    "# plt.legend(['w1','w2','w3','w4'])\n",
    "\n",
    "print(' figure 6 plotted ...')"
   ]
  },
  {
   "cell_type": "markdown",
   "metadata": {},
   "source": []
  }
 ],
 "metadata": {
  "kernelspec": {
   "display_name": "base",
   "language": "python",
   "name": "python3"
  },
  "language_info": {
   "codemirror_mode": {
    "name": "ipython",
    "version": 3
   },
   "file_extension": ".py",
   "mimetype": "text/x-python",
   "name": "python",
   "nbconvert_exporter": "python",
   "pygments_lexer": "ipython3",
   "version": "3.9.12"
  },
  "orig_nbformat": 4
 },
 "nbformat": 4,
 "nbformat_minor": 2
}
